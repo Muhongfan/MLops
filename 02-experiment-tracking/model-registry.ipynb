{
 "cells": [
  {
   "cell_type": "markdown",
   "metadata": {},
   "source": [
    "## MLflow's Model Registry"
   ]
  },
  {
   "cell_type": "code",
   "execution_count": 6,
   "metadata": {
    "ExecuteTime": {
     "start_time": "2023-06-10T09:38:38.124839Z",
     "end_time": "2023-06-10T09:38:38.125976Z"
    }
   },
   "outputs": [],
   "source": [
    "from mlflow.tracking import MlflowClient\n",
    "from pprint import pprint\n",
    "\n",
    "# The project we already created URL\n",
    "MLFLOW_TRACKING_URI = \"sqlite:///mlflow.db\""
   ]
  },
  {
   "cell_type": "code",
   "execution_count": null,
   "outputs": [],
   "source": [],
   "metadata": {
    "collapsed": false
   }
  },
  {
   "cell_type": "markdown",
   "metadata": {
    "ExecuteTime": {
     "start_time": "2023-05-31T16:43:01.976050Z",
     "end_time": "2023-05-31T16:43:02.268498Z"
    }
   },
   "source": [
    "### Interacting with the MLflow tracking server\n",
    "\n",
    "The `MlflowClient` object allows us to interact with...\n",
    "- an MLflow Tracking Server that creates and manages experiments and runs.\n",
    "- an MLflow Registry Server that creates and manages registered models and model versions. \n",
    "\n",
    "To instantiate it we need to pass a tracking URI and/or a registry URI"
   ],
   "outputs": [
    {
     "name": "stdout",
     "output_type": "stream",
     "text": [
      "{   'aliases': {},\n",
      "    'creation_timestamp': 1685474815976,\n",
      "    'description': None,\n",
      "    'last_updated_timestamp': 1685474827283,\n",
      "    'latest_versions': [   <ModelVersion: aliases=[], creation_timestamp=1685474827283, current_stage='None', description=None, last_updated_timestamp=1685474827283, name='nyc-taxi-regressor', run_id='af17d01599484b8f81b6b98f7132c76c', run_link=None, source='/Users/amberm/PycharmProjects/MLcamp/mlops-zoomcamp/02-experiment-tracking/mlruns/1/af17d01599484b8f81b6b98f7132c76c/artifacts/model', status='READY', status_message=None, tags={}, user_id=None, version=1>],\n",
      "    'name': 'nyc-taxi-regressor',\n",
      "    'tags': {}}\n",
      "{   'aliases': {},\n",
      "    'creation_timestamp': 1685471453919,\n",
      "    'description': 'The NYC taxi data',\n",
      "    'last_updated_timestamp': 1685544614239,\n",
      "    'latest_versions': [   <ModelVersion: aliases=[], creation_timestamp=1685471453977, current_stage='Production', description='', last_updated_timestamp=1685543202381, name='nyc_taxi_regressor', run_id='ae4c563dca8b4f2fbb285cbbc278d639', run_link='', source='/Users/amberm/PycharmProjects/MLcamp/mlops-zoomcamp/02-experiment-tracking/mlruns/2/ae4c563dca8b4f2fbb285cbbc278d639/artifacts/models_mlflow', status='READY', status_message=None, tags={'model': 'xgboost'}, user_id=None, version=1>,\n",
      "                           <ModelVersion: aliases=[], creation_timestamp=1685474934792, current_stage='Staging', description='The model version 3 was transitioned to Staging on 2023-05-31', last_updated_timestamp=1685543219623, name='nyc_taxi_regressor', run_id='af17d01599484b8f81b6b98f7132c76c', run_link=None, source='/Users/amberm/PycharmProjects/MLcamp/mlops-zoomcamp/02-experiment-tracking/mlruns/1/af17d01599484b8f81b6b98f7132c76c/artifacts/model', status='READY', status_message=None, tags={}, user_id=None, version=3>,\n",
      "                           <ModelVersion: aliases=[], creation_timestamp=1685544614239, current_stage='None', description=None, last_updated_timestamp=1685544614239, name='nyc_taxi_regressor', run_id='af17d01599484b8f81b6b98f7132c76c', run_link=None, source='/Users/amberm/PycharmProjects/MLcamp/mlops-zoomcamp/02-experiment-tracking/mlruns/1/af17d01599484b8f81b6b98f7132c76c/artifacts/model', status='READY', status_message=None, tags={}, user_id=None, version=5>],\n",
      "    'name': 'nyc_taxi_regressor',\n",
      "    'tags': {}}\n"
     ]
    }
   ],
   "execution_count": 2
  },
  {
   "cell_type": "code",
   "execution_count": 7,
   "metadata": {
    "ExecuteTime": {
     "start_time": "2023-06-10T09:38:41.000651Z",
     "end_time": "2023-06-10T09:38:41.022818Z"
    }
   },
   "outputs": [
    {
     "name": "stdout",
     "output_type": "stream",
     "text": [
      "{   'aliases': {},\n",
      "    'creation_timestamp': 1685474815976,\n",
      "    'description': None,\n",
      "    'last_updated_timestamp': 1685474827283,\n",
      "    'latest_versions': [   <ModelVersion: aliases=[], creation_timestamp=1685474827283, current_stage='None', description=None, last_updated_timestamp=1685474827283, name='nyc-taxi-regressor', run_id='af17d01599484b8f81b6b98f7132c76c', run_link=None, source='/Users/amberm/PycharmProjects/MLcamp/mlops-zoomcamp/02-experiment-tracking/mlruns/1/af17d01599484b8f81b6b98f7132c76c/artifacts/model', status='READY', status_message=None, tags={}, user_id=None, version=1>],\n",
      "    'name': 'nyc-taxi-regressor',\n",
      "    'tags': {}}\n",
      "{   'aliases': {},\n",
      "    'creation_timestamp': 1685471453919,\n",
      "    'description': 'The NYC taxi data',\n",
      "    'last_updated_timestamp': 1685544614239,\n",
      "    'latest_versions': [   <ModelVersion: aliases=[], creation_timestamp=1685471453977, current_stage='Production', description='', last_updated_timestamp=1685543202381, name='nyc_taxi_regressor', run_id='ae4c563dca8b4f2fbb285cbbc278d639', run_link='', source='/Users/amberm/PycharmProjects/MLcamp/mlops-zoomcamp/02-experiment-tracking/mlruns/2/ae4c563dca8b4f2fbb285cbbc278d639/artifacts/models_mlflow', status='READY', status_message=None, tags={'model': 'xgboost'}, user_id=None, version=1>,\n",
      "                           <ModelVersion: aliases=[], creation_timestamp=1685474934792, current_stage='Staging', description='The model version 3 was transitioned to Staging on 2023-05-31', last_updated_timestamp=1685543219623, name='nyc_taxi_regressor', run_id='af17d01599484b8f81b6b98f7132c76c', run_link=None, source='/Users/amberm/PycharmProjects/MLcamp/mlops-zoomcamp/02-experiment-tracking/mlruns/1/af17d01599484b8f81b6b98f7132c76c/artifacts/model', status='READY', status_message=None, tags={}, user_id=None, version=3>,\n",
      "                           <ModelVersion: aliases=[], creation_timestamp=1685544614239, current_stage='None', description=None, last_updated_timestamp=1685544614239, name='nyc_taxi_regressor', run_id='af17d01599484b8f81b6b98f7132c76c', run_link=None, source='/Users/amberm/PycharmProjects/MLcamp/mlops-zoomcamp/02-experiment-tracking/mlruns/1/af17d01599484b8f81b6b98f7132c76c/artifacts/model', status='READY', status_message=None, tags={}, user_id=None, version=5>],\n",
      "    'name': 'nyc_taxi_regressor',\n",
      "    'tags': {}}\n"
     ]
    }
   ],
   "source": [
    "# Create a client\n",
    "client = MlflowClient(tracking_uri=MLFLOW_TRACKING_URI)\n",
    "\n",
    "# client.list_experiments()\n",
    "for rm in client.search_registered_models():\n",
    "    pprint(dict(rm), indent=4)"
   ]
  },
  {
   "cell_type": "code",
   "execution_count": 8,
   "metadata": {
    "ExecuteTime": {
     "start_time": "2023-06-10T09:38:42.497319Z",
     "end_time": "2023-06-10T09:38:42.510078Z"
    }
   },
   "outputs": [
    {
     "data": {
      "text/plain": "'4'"
     },
     "execution_count": 8,
     "metadata": {},
     "output_type": "execute_result"
    }
   ],
   "source": [
    "client.create_experiment(name=\"my-experiment\")\n",
    "# The 4th one in mlflow"
   ]
  },
  {
   "cell_type": "code",
   "execution_count": 18,
   "metadata": {
    "ExecuteTime": {
     "start_time": "2023-06-10T09:40:36.620982Z",
     "end_time": "2023-06-10T09:40:36.634961Z"
    }
   },
   "outputs": [],
   "source": [
    "# Check the latest versions for the experiment with id `1`...\n",
    "\n",
    "from mlflow.entities import ViewType\n",
    "\n",
    "runs = client.search_runs(\n",
    "    experiment_ids='2',\n",
    "    filter_string=\"metrics.rmse < 7\",\n",
    "    run_view_type=ViewType.ACTIVE_ONLY,\n",
    "    max_results=5,\n",
    "    order_by=[\"metrics.rmse ASC\"]\n",
    ")"
   ]
  },
  {
   "cell_type": "code",
   "execution_count": 19,
   "metadata": {
    "ExecuteTime": {
     "start_time": "2023-06-10T09:40:39.058387Z",
     "end_time": "2023-06-10T09:40:39.065424Z"
    }
   },
   "outputs": [
    {
     "name": "stdout",
     "output_type": "stream",
     "text": [
      "run id: 27fb697e569043bfad5f3cc4542f3898, rmse: 6.3024\n"
     ]
    }
   ],
   "source": [
    "for run in runs:\n",
    "    print(f\"run id: {run.info.run_id}, rmse: {run.data.metrics['rmse']:.4f}\")"
   ]
  },
  {
   "cell_type": "code",
   "execution_count": null,
   "metadata": {},
   "outputs": [],
   "source": []
  },
  {
   "cell_type": "markdown",
   "metadata": {},
   "source": [
    "### Interacting with the Model Registry\n",
    "\n",
    "In this section We will use the `MlflowClient` instance to:\n",
    "\n",
    "1. Register a new version for the experiment `nyc-taxi-regressor`\n",
    "2. Retrieve the latests versions of the model `nyc-taxi-regressor` and check that a new version `4` was created.\n",
    "3. Transition the version `4` to \"Staging\" and adding annotations to it."
   ]
  },
  {
   "cell_type": "code",
   "execution_count": 7,
   "metadata": {
    "ExecuteTime": {
     "start_time": "2023-05-31T10:21:27.055572Z",
     "end_time": "2023-05-31T10:21:27.062438Z"
    }
   },
   "outputs": [],
   "source": [
    "import mlflow\n",
    "\n",
    "mlflow.set_tracking_uri(MLFLOW_TRACKING_URI)"
   ]
  },
  {
   "cell_type": "code",
   "execution_count": 17,
   "metadata": {
    "ExecuteTime": {
     "start_time": "2023-05-31T10:50:14.213761Z",
     "end_time": "2023-05-31T10:50:14.247002Z"
    }
   },
   "outputs": [
    {
     "name": "stderr",
     "output_type": "stream",
     "text": [
      "Registered model 'nyc_taxi_regressor' already exists. Creating a new version of this model...\n",
      "2023/05/31 10:50:14 INFO mlflow.tracking._model_registry.client: Waiting up to 300 seconds for model version to finish creation. Model name: nyc_taxi_regressor, version 5\n",
      "Created version '5' of model 'nyc_taxi_regressor'.\n"
     ]
    },
    {
     "data": {
      "text/plain": "<ModelVersion: aliases=[], creation_timestamp=1685544614239, current_stage='None', description=None, last_updated_timestamp=1685544614239, name='nyc_taxi_regressor', run_id='af17d01599484b8f81b6b98f7132c76c', run_link=None, source='/Users/amberm/PycharmProjects/MLcamp/mlops-zoomcamp/02-experiment-tracking/mlruns/1/af17d01599484b8f81b6b98f7132c76c/artifacts/model', status='READY', status_message=None, tags={}, user_id=None, version=5>"
     },
     "execution_count": 17,
     "metadata": {},
     "output_type": "execute_result"
    }
   ],
   "source": [
    "# The best rmse\n",
    "run_id = \"af17d01599484b8f81b6b98f7132c76c\"\n",
    "model_uri = f\"runs:/{run_id}/model\"\n",
    "mlflow.register_model(model_uri=model_uri, name=\"nyc_taxi_regressor\")"
   ]
  },
  {
   "cell_type": "code",
   "execution_count": 10,
   "metadata": {
    "ExecuteTime": {
     "start_time": "2023-05-31T10:24:58.128570Z",
     "end_time": "2023-05-31T10:24:58.144995Z"
    }
   },
   "outputs": [
    {
     "data": {
      "text/plain": "<RegisteredModel: aliases={}, creation_timestamp=1685471453919, description='The NYC taxi data', last_updated_timestamp=1685542888122, latest_versions=[<ModelVersion: aliases=[], creation_timestamp=1685542888122, current_stage='None', description=None, last_updated_timestamp=1685542888122, name='nyc_taxi_regressor', run_id='af17d01599484b8f81b6b98f7132c76c', run_link=None, source='/Users/amberm/PycharmProjects/MLcamp/mlops-zoomcamp/02-experiment-tracking/mlruns/1/af17d01599484b8f81b6b98f7132c76c/artifacts/model', status='READY', status_message=None, tags={}, user_id=None, version=4>,\n <ModelVersion: aliases=[], creation_timestamp=1685474934792, current_stage='Staging', description=None, last_updated_timestamp=1685474995095, name='nyc_taxi_regressor', run_id='af17d01599484b8f81b6b98f7132c76c', run_link=None, source='/Users/amberm/PycharmProjects/MLcamp/mlops-zoomcamp/02-experiment-tracking/mlruns/1/af17d01599484b8f81b6b98f7132c76c/artifacts/model', status='READY', status_message=None, tags={}, user_id=None, version=3>], name='nyc_taxi_regressor', tags={}>"
     },
     "execution_count": 10,
     "metadata": {},
     "output_type": "execute_result"
    }
   ],
   "source": [
    "model_name = \"nyc_taxi_regressor\"\n",
    "# change from list_registered_model() to get_registered_model()\n",
    "client.get_registered_model(name=\"nyc_taxi_regressor\")"
   ]
  },
  {
   "cell_type": "code",
   "execution_count": 15,
   "metadata": {
    "ExecuteTime": {
     "start_time": "2023-05-31T10:26:47.222746Z",
     "end_time": "2023-05-31T10:26:47.244659Z"
    }
   },
   "outputs": [
    {
     "name": "stdout",
     "output_type": "stream",
     "text": [
      "version: 1, stage: Production\n",
      "version: 3, stage: Staging\n",
      "version: 4, stage: None\n"
     ]
    }
   ],
   "source": [
    "latest_versions = client.get_latest_versions(name=model_name)\n",
    "\n",
    "for version in latest_versions:\n",
    "    print(f\"version: {version.version}, stage: {version.current_stage}\")"
   ]
  },
  {
   "cell_type": "code",
   "execution_count": 16,
   "metadata": {
    "ExecuteTime": {
     "start_time": "2023-05-31T10:26:59.620240Z",
     "end_time": "2023-05-31T10:26:59.641799Z"
    }
   },
   "outputs": [
    {
     "data": {
      "text/plain": "<ModelVersion: aliases=[], creation_timestamp=1685474934792, current_stage='Staging', description='The model version 3 was transitioned to Staging on 2023-05-31', last_updated_timestamp=1685543219623, name='nyc_taxi_regressor', run_id='af17d01599484b8f81b6b98f7132c76c', run_link=None, source='/Users/amberm/PycharmProjects/MLcamp/mlops-zoomcamp/02-experiment-tracking/mlruns/1/af17d01599484b8f81b6b98f7132c76c/artifacts/model', status='READY', status_message=None, tags={}, user_id=None, version=3>"
     },
     "execution_count": 16,
     "metadata": {},
     "output_type": "execute_result"
    }
   ],
   "source": [
    "model_version = 3\n",
    "new_stage = \"Staging\"\n",
    "client.transition_model_version_stage(\n",
    "    name=model_name,\n",
    "    version=model_version,\n",
    "    stage=new_stage,\n",
    "    archive_existing_versions=False\n",
    ")"
   ]
  },
  {
   "cell_type": "code",
   "execution_count": 14,
   "metadata": {
    "ExecuteTime": {
     "start_time": "2023-05-31T10:25:17.985508Z",
     "end_time": "2023-05-31T10:25:18.010506Z"
    }
   },
   "outputs": [
    {
     "data": {
      "text/plain": "<ModelVersion: aliases=[], creation_timestamp=1685474934792, current_stage='Staging', description='The model version 3 was transitioned to Staging on 2023-05-31', last_updated_timestamp=1685543117980, name='nyc_taxi_regressor', run_id='af17d01599484b8f81b6b98f7132c76c', run_link=None, source='/Users/amberm/PycharmProjects/MLcamp/mlops-zoomcamp/02-experiment-tracking/mlruns/1/af17d01599484b8f81b6b98f7132c76c/artifacts/model', status='READY', status_message=None, tags={}, user_id=None, version=3>"
     },
     "execution_count": 14,
     "metadata": {},
     "output_type": "execute_result"
    }
   ],
   "source": [
    "from datetime import datetime\n",
    "\n",
    "date = datetime.today().date()\n",
    "client.update_model_version(\n",
    "    name=model_name,\n",
    "    version=model_version,\n",
    "    description=f\"The model version {model_version} was transitioned to {new_stage} on {date}\"\n",
    ")"
   ]
  },
  {
   "cell_type": "code",
   "execution_count": null,
   "metadata": {},
   "outputs": [],
   "source": []
  },
  {
   "cell_type": "markdown",
   "metadata": {},
   "source": [
    "### Comparing versions and selecting the new \"Production\" model\n",
    "\n",
    "In the last section, we will retrieve models registered in the model registry and compare their performance on an unseen test set. The idea is to simulate the scenario in which a deployment engineer has to interact with the model registry to decide whether to update the model version that is in production or not.\n",
    "\n",
    "These are the steps:\n",
    "\n",
    "1. Load the test dataset, which corresponds to the NYC Green Taxi data from the month of March 2021.\n",
    "2. Download the `DictVectorizer` that was fitted using the training data and saved to MLflow as an artifact, and load it with pickle.\n",
    "3. Preprocess the test set using the `DictVectorizer` so we can properly feed the regressors.\n",
    "4. Make predictions on the test set using the model versions that are currently in the \"Staging\" and \"Production\" stages, and compare their performance.\n",
    "5. Based on the results, update the \"Production\" model version accordingly.\n",
    "\n",
    "\n",
    "**Note: the model registry doesn't actually deploy the model to production when you transition a model to the \"Production\" stage, it just assign a label to that model version. You should complement the registry with some CI/CD code that does the actual deployment.**"
   ]
  },
  {
   "cell_type": "code",
   "execution_count": 22,
   "metadata": {
    "ExecuteTime": {
     "start_time": "2023-05-31T10:55:49.966912Z",
     "end_time": "2023-05-31T10:55:49.969245Z"
    }
   },
   "outputs": [],
   "source": [
    "from sklearn.metrics import mean_squared_error\n",
    "import pandas as pd\n",
    "\n",
    "\n",
    "def read_dataframe(filename):\n",
    "    df = pd.read_parquet(filename)\n",
    "\n",
    "    df.lpep_dropoff_datetime = pd.to_datetime(df.lpep_dropoff_datetime)\n",
    "    df.lpep_pickup_datetime = pd.to_datetime(df.lpep_pickup_datetime)\n",
    "\n",
    "    df['duration'] = df.lpep_dropoff_datetime - df.lpep_pickup_datetime\n",
    "    df.duration = df.duration.apply(lambda td: td.total_seconds() / 60)\n",
    "\n",
    "    df = df[(df.duration >= 1) & (df.duration <= 60)]\n",
    "\n",
    "    categorical = ['PULocationID', 'DOLocationID']\n",
    "    df[categorical] = df[categorical].astype(str)\n",
    "    \n",
    "    return df\n",
    "\n",
    "\n",
    "def preprocess(df, dv):\n",
    "    df['PU_DO'] = df['PULocationID'] + '_' + df['DOLocationID']\n",
    "    categorical = ['PU_DO']\n",
    "    numerical = ['trip_distance']\n",
    "    train_dicts = df[categorical + numerical].to_dict(orient='records')\n",
    "    return dv.transform(train_dicts)\n",
    "\n",
    "\n",
    "def test_model(name, stage, X_test, y_test):\n",
    "    model = mlflow.pyfunc.load_model(f\"models:/{name}/{stage}\")\n",
    "    y_pred = model.predict(X_test)\n",
    "    return {\"rmse\": mean_squared_error(y_test, y_pred, squared=False)}"
   ]
  },
  {
   "cell_type": "code",
   "execution_count": 23,
   "metadata": {
    "ExecuteTime": {
     "start_time": "2023-05-31T10:55:52.462561Z",
     "end_time": "2023-05-31T10:55:52.922771Z"
    }
   },
   "outputs": [],
   "source": [
    "df = read_dataframe('./data/green_tripdata_2021-03.parquet')"
   ]
  },
  {
   "cell_type": "code",
   "execution_count": 1,
   "metadata": {},
   "outputs": [
    {
     "ename": "NameError",
     "evalue": "name 'client' is not defined",
     "output_type": "error",
     "traceback": [
      "\u001B[0;31m---------------------------------------------------------------------------\u001B[0m",
      "\u001B[0;31mNameError\u001B[0m                                 Traceback (most recent call last)",
      "Cell \u001B[0;32mIn[1], line 1\u001B[0m\n\u001B[0;32m----> 1\u001B[0m \u001B[43mclient\u001B[49m\u001B[38;5;241m.\u001B[39mdownload_artifacts(run_id\u001B[38;5;241m=\u001B[39mrun_id, path\u001B[38;5;241m=\u001B[39m\u001B[38;5;124m'\u001B[39m\u001B[38;5;124mpreprocessor\u001B[39m\u001B[38;5;124m'\u001B[39m, dst_path\u001B[38;5;241m=\u001B[39m\u001B[38;5;124m'\u001B[39m\u001B[38;5;124m.\u001B[39m\u001B[38;5;124m'\u001B[39m)\n",
      "\u001B[0;31mNameError\u001B[0m: name 'client' is not defined"
     ]
    }
   ],
   "source": [
    "client.download_artifacts(run_id=run_id, path='preprocessor', dst_path='.')"
   ]
  },
  {
   "cell_type": "code",
   "execution_count": 38,
   "metadata": {},
   "outputs": [],
   "source": [
    "import pickle\n",
    "\n",
    "with open(\"preprocessor/preprocessor.b\", \"rb\") as f_in:\n",
    "    dv = pickle.load(f_in)"
   ]
  },
  {
   "cell_type": "code",
   "execution_count": 39,
   "metadata": {},
   "outputs": [],
   "source": [
    "X_test = preprocess(df, dv)"
   ]
  },
  {
   "cell_type": "code",
   "execution_count": 40,
   "metadata": {},
   "outputs": [],
   "source": [
    "target = \"duration\"\n",
    "y_test = df[target].values"
   ]
  },
  {
   "cell_type": "code",
   "execution_count": null,
   "metadata": {},
   "outputs": [],
   "source": []
  },
  {
   "cell_type": "code",
   "execution_count": 41,
   "metadata": {},
   "outputs": [
    {
     "name": "stdout",
     "output_type": "stream",
     "text": [
      "CPU times: user 139 ms, sys: 44.6 ms, total: 183 ms\n",
      "Wall time: 447 ms\n"
     ]
    },
    {
     "data": {
      "text/plain": [
       "{'rmse': 6.659623830022514}"
      ]
     },
     "execution_count": 41,
     "metadata": {},
     "output_type": "execute_result"
    }
   ],
   "source": [
    "%time test_model(name=model_name, stage=\"Production\", X_test=X_test, y_test=y_test)"
   ]
  },
  {
   "cell_type": "code",
   "execution_count": 42,
   "metadata": {},
   "outputs": [
    {
     "name": "stdout",
     "output_type": "stream",
     "text": [
      "CPU times: user 6.94 s, sys: 216 ms, total: 7.16 s\n",
      "Wall time: 7.28 s\n"
     ]
    },
    {
     "data": {
      "text/plain": [
       "{'rmse': 6.881555517147188}"
      ]
     },
     "execution_count": 42,
     "metadata": {},
     "output_type": "execute_result"
    }
   ],
   "source": [
    "%time test_model(name=model_name, stage=\"Staging\", X_test=X_test, y_test=y_test)"
   ]
  },
  {
   "cell_type": "code",
   "execution_count": 43,
   "metadata": {},
   "outputs": [
    {
     "data": {
      "text/plain": [
       "<ModelVersion: creation_timestamp=1652971637398, current_stage='Production', description='The model version 4 was transitioned to Staging on 2022-05-19', last_updated_timestamp=1652972763255, name='nyc-taxi-regressor', run_id='b8904012c84343b5bf8ee72aa8f0f402', run_link=None, source='./mlruns/1/b8904012c84343b5bf8ee72aa8f0f402/artifacts/model', status='READY', status_message=None, tags={}, user_id=None, version=4>"
      ]
     },
     "execution_count": 43,
     "metadata": {},
     "output_type": "execute_result"
    }
   ],
   "source": [
    "client.transition_model_version_stage(\n",
    "    name=model_name,\n",
    "    version=4,\n",
    "    stage=\"Production\",\n",
    "    archive_existing_versions=True\n",
    ")"
   ]
  },
  {
   "cell_type": "code",
   "execution_count": null,
   "metadata": {},
   "outputs": [],
   "source": []
  },
  {
   "cell_type": "code",
   "execution_count": null,
   "metadata": {},
   "outputs": [],
   "source": []
  }
 ],
 "metadata": {
  "interpreter": {
   "hash": "0848c9d6c7d415ad6c477ff7ff8e98694d1a4aa96d0deee89244642e6b630036"
  },
  "kernelspec": {
   "display_name": "Python 3.9.12 ('exp-tracking-env')",
   "language": "python",
   "name": "python3"
  },
  "language_info": {
   "codemirror_mode": {
    "name": "ipython",
    "version": 3
   },
   "file_extension": ".py",
   "mimetype": "text/x-python",
   "name": "python",
   "nbconvert_exporter": "python",
   "pygments_lexer": "ipython3",
   "version": "3.9.12"
  },
  "orig_nbformat": 4
 },
 "nbformat": 4,
 "nbformat_minor": 2
}
