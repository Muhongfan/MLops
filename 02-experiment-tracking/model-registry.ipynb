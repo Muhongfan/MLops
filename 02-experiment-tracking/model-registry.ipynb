{
 "cells": [
  {
   "cell_type": "markdown",
   "metadata": {},
   "source": [
    "## MLflow's Model Registry"
   ]
  },
  {
   "cell_type": "code",
   "execution_count": 46,
   "metadata": {
    "ExecuteTime": {
     "start_time": "2023-06-12T21:23:43.092780Z",
     "end_time": "2023-06-12T21:23:43.160289Z"
    }
   },
   "outputs": [],
   "source": [
    "from mlflow.tracking import MlflowClient\n",
    "from pprint import pprint\n",
    "\n",
    "# The project we already created URL\n",
    "MLFLOW_TRACKING_URI = \"sqlite:///mlflow.db\""
   ]
  },
  {
   "cell_type": "code",
   "execution_count": 46,
   "outputs": [],
   "source": [],
   "metadata": {
    "collapsed": false,
    "ExecuteTime": {
     "start_time": "2023-06-12T21:23:43.097984Z",
     "end_time": "2023-06-12T21:23:43.160889Z"
    }
   }
  },
  {
   "cell_type": "code",
   "execution_count": 46,
   "outputs": [],
   "source": [],
   "metadata": {
    "collapsed": false,
    "ExecuteTime": {
     "start_time": "2023-06-12T21:23:43.100974Z",
     "end_time": "2023-06-12T21:23:43.161364Z"
    }
   }
  },
  {
   "cell_type": "markdown",
   "metadata": {
    "ExecuteTime": {
     "start_time": "2023-05-31T16:43:01.976050Z",
     "end_time": "2023-05-31T16:43:02.268498Z"
    }
   },
   "source": [
    "### Interacting with the MLflow tracking server\n",
    "\n",
    "The `MlflowClient` object allows us to interact with...\n",
    "- an MLflow Tracking Server that creates and manages experiments and runs.\n",
    "- an MLflow Registry Server that creates and manages registered models and model versions. \n",
    "\n",
    "To instantiate it we need to pass a tracking URI and/or a registry URI"
   ],
   "outputs": [
    {
     "name": "stdout",
     "output_type": "stream",
     "text": [
      "{   'aliases': {},\n",
      "    'creation_timestamp': 1685474815976,\n",
      "    'description': None,\n",
      "    'last_updated_timestamp': 1685474827283,\n",
      "    'latest_versions': [   <ModelVersion: aliases=[], creation_timestamp=1685474827283, current_stage='None', description=None, last_updated_timestamp=1685474827283, name='nyc-taxi-regressor', run_id='af17d01599484b8f81b6b98f7132c76c', run_link=None, source='/Users/amberm/PycharmProjects/MLcamp/mlops-zoomcamp/02-experiment-tracking/mlruns/1/af17d01599484b8f81b6b98f7132c76c/artifacts/model', status='READY', status_message=None, tags={}, user_id=None, version=1>],\n",
      "    'name': 'nyc-taxi-regressor',\n",
      "    'tags': {}}\n",
      "{   'aliases': {},\n",
      "    'creation_timestamp': 1685471453919,\n",
      "    'description': 'The NYC taxi data',\n",
      "    'last_updated_timestamp': 1685544614239,\n",
      "    'latest_versions': [   <ModelVersion: aliases=[], creation_timestamp=1685471453977, current_stage='Production', description='', last_updated_timestamp=1685543202381, name='nyc_taxi_regressor', run_id='ae4c563dca8b4f2fbb285cbbc278d639', run_link='', source='/Users/amberm/PycharmProjects/MLcamp/mlops-zoomcamp/02-experiment-tracking/mlruns/2/ae4c563dca8b4f2fbb285cbbc278d639/artifacts/models_mlflow', status='READY', status_message=None, tags={'model': 'xgboost'}, user_id=None, version=1>,\n",
      "                           <ModelVersion: aliases=[], creation_timestamp=1685474934792, current_stage='Staging', description='The model version 3 was transitioned to Staging on 2023-05-31', last_updated_timestamp=1685543219623, name='nyc_taxi_regressor', run_id='af17d01599484b8f81b6b98f7132c76c', run_link=None, source='/Users/amberm/PycharmProjects/MLcamp/mlops-zoomcamp/02-experiment-tracking/mlruns/1/af17d01599484b8f81b6b98f7132c76c/artifacts/model', status='READY', status_message=None, tags={}, user_id=None, version=3>,\n",
      "                           <ModelVersion: aliases=[], creation_timestamp=1685544614239, current_stage='None', description=None, last_updated_timestamp=1685544614239, name='nyc_taxi_regressor', run_id='af17d01599484b8f81b6b98f7132c76c', run_link=None, source='/Users/amberm/PycharmProjects/MLcamp/mlops-zoomcamp/02-experiment-tracking/mlruns/1/af17d01599484b8f81b6b98f7132c76c/artifacts/model', status='READY', status_message=None, tags={}, user_id=None, version=5>],\n",
      "    'name': 'nyc_taxi_regressor',\n",
      "    'tags': {}}\n"
     ]
    }
   ],
   "execution_count": 2
  },
  {
   "cell_type": "code",
   "execution_count": 47,
   "metadata": {
    "ExecuteTime": {
     "start_time": "2023-06-12T21:23:43.108484Z",
     "end_time": "2023-06-12T21:23:43.161948Z"
    }
   },
   "outputs": [
    {
     "name": "stdout",
     "output_type": "stream",
     "text": [
      "{   'aliases': {},\n",
      "    'creation_timestamp': 1686585488370,\n",
      "    'description': 'The NYC Taxi prediction',\n",
      "    'last_updated_timestamp': 1686615459235,\n",
      "    'latest_versions': [   <ModelVersion: aliases=[], creation_timestamp=1686595083171, current_stage='None', description='', last_updated_timestamp=1686595083171, name='nyc_taxi_regressor', run_id='0827e808120245f58fcfe94f6a4621dd', run_link='', source='/Users/amberm/PycharmProjects/MLops/MLops/02-experiment-tracking/mlruns/3/0827e808120245f58fcfe94f6a4621dd/artifacts/models_mlflow', status='READY', status_message=None, tags={}, user_id=None, version=1>,\n",
      "                           <ModelVersion: aliases=[], creation_timestamp=1686595095992, current_stage='Staging', description='', last_updated_timestamp=1686615444734, name='nyc_taxi_regressor', run_id='2f1bb039ed0f4c46aa4045e45146f6e8', run_link='', source='/Users/amberm/PycharmProjects/MLops/MLops/02-experiment-tracking/mlruns/4/2f1bb039ed0f4c46aa4045e45146f6e8/artifacts/model', status='READY', status_message=None, tags={'LinearSVR': 'LinearSVR'}, user_id=None, version=2>,\n",
      "                           <ModelVersion: aliases=[], creation_timestamp=1686595700621, current_stage='Archived', description='The model version 6 was transitioned to Staging on 2023-06-12', last_updated_timestamp=1686615427495, name='nyc_taxi_regressor', run_id='1cf87a8d01a24711b43a341bf65c8043', run_link=None, source='/Users/amberm/PycharmProjects/MLops/MLops/02-experiment-tracking/mlruns/4/1cf87a8d01a24711b43a341bf65c8043/artifacts/model', status='READY', status_message=None, tags={}, user_id=None, version=6>,\n",
      "                           <ModelVersion: aliases=[], creation_timestamp=1686595110491, current_stage='Production', description='', last_updated_timestamp=1686615459235, name='nyc_taxi_regressor', run_id='1cf87a8d01a24711b43a341bf65c8043', run_link='', source='/Users/amberm/PycharmProjects/MLops/MLops/02-experiment-tracking/mlruns/4/1cf87a8d01a24711b43a341bf65c8043/artifacts/model', status='READY', status_message=None, tags={'GradientBoostingRegressor': 'GradientBoostingRegressor'}, user_id=None, version=4>],\n",
      "    'name': 'nyc_taxi_regressor',\n",
      "    'tags': {}}\n"
     ]
    }
   ],
   "source": [
    "# Create a client\n",
    "client = MlflowClient(tracking_uri=MLFLOW_TRACKING_URI)\n",
    "\n",
    "# client.list_experiments()\n",
    "for rm in client.search_registered_models():\n",
    "    pprint(dict(rm), indent=4)"
   ]
  },
  {
   "cell_type": "code",
   "execution_count": 48,
   "metadata": {
    "ExecuteTime": {
     "start_time": "2023-06-12T21:23:43.129135Z",
     "end_time": "2023-06-12T21:23:43.162133Z"
    }
   },
   "outputs": [
    {
     "data": {
      "text/plain": "'7'"
     },
     "execution_count": 48,
     "metadata": {},
     "output_type": "execute_result"
    }
   ],
   "source": [
    "client.create_experiment(name=\"new_Selection\")\n",
    "# The 6th one in mlflow"
   ]
  },
  {
   "cell_type": "code",
   "execution_count": 49,
   "metadata": {
    "ExecuteTime": {
     "start_time": "2023-06-12T21:23:43.139092Z",
     "end_time": "2023-06-12T21:23:43.167165Z"
    }
   },
   "outputs": [],
   "source": [
    "# Check the latest versions for the experiment with id `1`...\n",
    "\n",
    "from mlflow.entities import ViewType\n",
    "\n",
    "runs = client.search_runs(\n",
    "    experiment_ids='4',\n",
    "    filter_string=\"metrics.rmse < 7\",\n",
    "    run_view_type=ViewType.ACTIVE_ONLY,\n",
    "    max_results=5,\n",
    "    order_by=[\"metrics.rmse ASC\"]\n",
    ")"
   ]
  },
  {
   "cell_type": "code",
   "execution_count": 50,
   "metadata": {
    "ExecuteTime": {
     "start_time": "2023-06-12T21:23:43.167111Z",
     "end_time": "2023-06-12T21:23:43.173335Z"
    }
   },
   "outputs": [
    {
     "name": "stdout",
     "output_type": "stream",
     "text": [
      "run id: 1cf87a8d01a24711b43a341bf65c8043, rmse: 6.7423\n",
      "run id: 218a991b5da348108b9b09201bc9c5de, rmse: 6.9036\n",
      "run id: ce5531fed3194be0be10b40f2bb2fb96, rmse: 6.9124\n",
      "run id: be9838855685495d895850f3ffd19c0a, rmse: 6.9151\n"
     ]
    }
   ],
   "source": [
    "for run in runs:\n",
    "    print(f\"run id: {run.info.run_id}, rmse: {run.data.metrics['rmse']:.4f}\")"
   ]
  },
  {
   "cell_type": "markdown",
   "metadata": {},
   "source": [
    "### Interacting with the Model Registry\n",
    "\n",
    "In this section We will use the `MlflowClient` instance to:\n",
    "\n",
    "1. Register a new version for the experiment `nyc-taxi-regressor`\n",
    "2. Retrieve the latests versions of the model `nyc-taxi-regressor` and check that a new version `4` was created.\n",
    "3. Transition the version `4` to \"Staging\" and adding annotations to it."
   ]
  },
  {
   "cell_type": "code",
   "execution_count": 51,
   "metadata": {
    "ExecuteTime": {
     "start_time": "2023-06-12T21:23:43.174253Z",
     "end_time": "2023-06-12T21:23:43.175700Z"
    }
   },
   "outputs": [],
   "source": [
    "import mlflow\n",
    "\n",
    "mlflow.set_tracking_uri(MLFLOW_TRACKING_URI)"
   ]
  },
  {
   "cell_type": "code",
   "execution_count": 52,
   "metadata": {
    "ExecuteTime": {
     "start_time": "2023-06-12T21:23:43.177296Z",
     "end_time": "2023-06-12T21:23:43.208242Z"
    }
   },
   "outputs": [
    {
     "name": "stderr",
     "output_type": "stream",
     "text": [
      "Registered model 'nyc_taxi_regressor' already exists. Creating a new version of this model...\n",
      "2023/06/12 21:23:43 INFO mlflow.tracking._model_registry.client: Waiting up to 300 seconds for model version to finish creation. Model name: nyc_taxi_regressor, version 7\n",
      "Created version '7' of model 'nyc_taxi_regressor'.\n"
     ]
    },
    {
     "data": {
      "text/plain": "<ModelVersion: aliases=[], creation_timestamp=1686619423188, current_stage='None', description=None, last_updated_timestamp=1686619423188, name='nyc_taxi_regressor', run_id='1cf87a8d01a24711b43a341bf65c8043', run_link=None, source='/Users/amberm/PycharmProjects/MLops/MLops/02-experiment-tracking/mlruns/4/1cf87a8d01a24711b43a341bf65c8043/artifacts/model', status='READY', status_message=None, tags={}, user_id=None, version=7>"
     },
     "execution_count": 52,
     "metadata": {},
     "output_type": "execute_result"
    }
   ],
   "source": [
    "# Add the best model to registry\n",
    "run_id = \"1cf87a8d01a24711b43a341bf65c8043\"\n",
    "model_uri = f\"runs:/{run_id}/model\"\n",
    "mlflow.register_model(model_uri=model_uri, name=\"nyc_taxi_regressor\")"
   ]
  },
  {
   "cell_type": "code",
   "execution_count": 53,
   "metadata": {
    "ExecuteTime": {
     "start_time": "2023-06-12T21:23:43.200660Z",
     "end_time": "2023-06-12T21:23:43.208621Z"
    }
   },
   "outputs": [
    {
     "data": {
      "text/plain": "<RegisteredModel: aliases={}, creation_timestamp=1686585488370, description='The NYC Taxi prediction', last_updated_timestamp=1686619423188, latest_versions=[<ModelVersion: aliases=[], creation_timestamp=1686619423188, current_stage='None', description=None, last_updated_timestamp=1686619423188, name='nyc_taxi_regressor', run_id='1cf87a8d01a24711b43a341bf65c8043', run_link=None, source='/Users/amberm/PycharmProjects/MLops/MLops/02-experiment-tracking/mlruns/4/1cf87a8d01a24711b43a341bf65c8043/artifacts/model', status='READY', status_message=None, tags={}, user_id=None, version=7>,\n <ModelVersion: aliases=[], creation_timestamp=1686595095992, current_stage='Staging', description='', last_updated_timestamp=1686615444734, name='nyc_taxi_regressor', run_id='2f1bb039ed0f4c46aa4045e45146f6e8', run_link='', source='/Users/amberm/PycharmProjects/MLops/MLops/02-experiment-tracking/mlruns/4/2f1bb039ed0f4c46aa4045e45146f6e8/artifacts/model', status='READY', status_message=None, tags={'LinearSVR': 'LinearSVR'}, user_id=None, version=2>,\n <ModelVersion: aliases=[], creation_timestamp=1686595700621, current_stage='Archived', description='The model version 6 was transitioned to Staging on 2023-06-12', last_updated_timestamp=1686615427495, name='nyc_taxi_regressor', run_id='1cf87a8d01a24711b43a341bf65c8043', run_link=None, source='/Users/amberm/PycharmProjects/MLops/MLops/02-experiment-tracking/mlruns/4/1cf87a8d01a24711b43a341bf65c8043/artifacts/model', status='READY', status_message=None, tags={}, user_id=None, version=6>,\n <ModelVersion: aliases=[], creation_timestamp=1686595110491, current_stage='Production', description='', last_updated_timestamp=1686615459235, name='nyc_taxi_regressor', run_id='1cf87a8d01a24711b43a341bf65c8043', run_link='', source='/Users/amberm/PycharmProjects/MLops/MLops/02-experiment-tracking/mlruns/4/1cf87a8d01a24711b43a341bf65c8043/artifacts/model', status='READY', status_message=None, tags={'GradientBoostingRegressor': 'GradientBoostingRegressor'}, user_id=None, version=4>], name='nyc_taxi_regressor', tags={}>"
     },
     "execution_count": 53,
     "metadata": {},
     "output_type": "execute_result"
    }
   ],
   "source": [
    "# Get the list of registry\n",
    "model_name = \"nyc_taxi_regressor\"\n",
    "# change from list_registered_model() to get_registered_model()\n",
    "client.get_registered_model(name=\"nyc_taxi_regressor\")"
   ]
  },
  {
   "cell_type": "code",
   "execution_count": 54,
   "metadata": {
    "ExecuteTime": {
     "start_time": "2023-06-12T21:23:43.208444Z",
     "end_time": "2023-06-12T21:23:43.218394Z"
    }
   },
   "outputs": [
    {
     "name": "stdout",
     "output_type": "stream",
     "text": [
      "version: 7, stage: None\n",
      "version: 2, stage: Staging\n",
      "version: 6, stage: Archived\n",
      "version: 4, stage: Production\n"
     ]
    }
   ],
   "source": [
    "latest_versions = client.get_latest_versions(name=model_name)\n",
    "\n",
    "for version in latest_versions:\n",
    "    print(f\"version: {version.version}, stage: {version.current_stage}\")"
   ]
  },
  {
   "cell_type": "code",
   "execution_count": 55,
   "metadata": {
    "ExecuteTime": {
     "start_time": "2023-06-12T21:23:43.215161Z",
     "end_time": "2023-06-12T21:23:43.225306Z"
    }
   },
   "outputs": [
    {
     "data": {
      "text/plain": "<ModelVersion: aliases=[], creation_timestamp=1686595700621, current_stage='Staging', description='The model version 6 was transitioned to Staging on 2023-06-12', last_updated_timestamp=1686619423214, name='nyc_taxi_regressor', run_id='1cf87a8d01a24711b43a341bf65c8043', run_link=None, source='/Users/amberm/PycharmProjects/MLops/MLops/02-experiment-tracking/mlruns/4/1cf87a8d01a24711b43a341bf65c8043/artifacts/model', status='READY', status_message=None, tags={}, user_id=None, version=6>"
     },
     "execution_count": 55,
     "metadata": {},
     "output_type": "execute_result"
    }
   ],
   "source": [
    "# Changing the current version stage\n",
    "model_version = 6\n",
    "new_stage = \"Staging\"\n",
    "client.transition_model_version_stage(\n",
    "    name=model_name,\n",
    "    version=model_version,\n",
    "    stage=new_stage,\n",
    "    archive_existing_versions=False\n",
    ")"
   ]
  },
  {
   "cell_type": "code",
   "execution_count": 56,
   "metadata": {
    "ExecuteTime": {
     "start_time": "2023-06-12T21:23:43.225013Z",
     "end_time": "2023-06-12T21:23:43.268432Z"
    }
   },
   "outputs": [
    {
     "data": {
      "text/plain": "<ModelVersion: aliases=[], creation_timestamp=1686595700621, current_stage='Staging', description='The model version 6 was transitioned to Staging on 2023-06-12', last_updated_timestamp=1686619423224, name='nyc_taxi_regressor', run_id='1cf87a8d01a24711b43a341bf65c8043', run_link=None, source='/Users/amberm/PycharmProjects/MLops/MLops/02-experiment-tracking/mlruns/4/1cf87a8d01a24711b43a341bf65c8043/artifacts/model', status='READY', status_message=None, tags={}, user_id=None, version=6>"
     },
     "execution_count": 56,
     "metadata": {},
     "output_type": "execute_result"
    }
   ],
   "source": [
    "from datetime import datetime\n",
    "\n",
    "date = datetime.today().date()\n",
    "client.update_model_version(\n",
    "    name=model_name,\n",
    "    version=model_version,\n",
    "    description=f\"The model version {model_version} was transitioned to {new_stage} on {date}\"\n",
    ")"
   ]
  },
  {
   "cell_type": "markdown",
   "metadata": {},
   "source": [
    "### Comparing versions and selecting the new \"Production\" model\n",
    "\n",
    "In the last section, we will retrieve models registered in the model registry and compare their performance on an unseen test set. The idea is to simulate the scenario in which a deployment engineer has to interact with the model registry to decide whether to update the model version that is in production or not.\n",
    "\n",
    "These are the steps:\n",
    "\n",
    "1. Load the test dataset, which corresponds to the NYC Green Taxi data from the month of March 2021.\n",
    "2. Download the `DictVectorizer` that was fitted using the training data and saved to MLflow as an artifact, and load it with pickle.\n",
    "3. Preprocess the test set using the `DictVectorizer` so we can properly feed the regressors.\n",
    "4. Make predictions on the test set using the model versions that are currently in the \"Staging\" and \"Production\" stages, and compare their performance.\n",
    "5. Based on the results, update the \"Production\" model version accordingly.\n",
    "\n",
    "\n",
    "**Note: the model registry doesn't actually deploy the model to production when you transition a model to the \"Production\" stage, it just assign a label to that model version. You should complement the registry with some CI/CD code that does the actual deployment.**"
   ]
  },
  {
   "cell_type": "code",
   "execution_count": 57,
   "metadata": {
    "ExecuteTime": {
     "start_time": "2023-06-12T21:23:43.240281Z",
     "end_time": "2023-06-12T21:23:43.271678Z"
    }
   },
   "outputs": [],
   "source": [
    "from sklearn.metrics import mean_squared_error\n",
    "import pandas as pd\n",
    "\n",
    "\n",
    "def read_dataframe(filename):\n",
    "    df = pd.read_parquet(filename)\n",
    "\n",
    "    df.lpep_dropoff_datetime = pd.to_datetime(df.lpep_dropoff_datetime)\n",
    "    df.lpep_pickup_datetime = pd.to_datetime(df.lpep_pickup_datetime)\n",
    "\n",
    "    df['duration'] = df.lpep_dropoff_datetime - df.lpep_pickup_datetime\n",
    "    df.duration = df.duration.apply(lambda td: td.total_seconds() / 60)\n",
    "\n",
    "    df = df[(df.duration >= 1) & (df.duration <= 60)]\n",
    "\n",
    "    categorical = ['PULocationID', 'DOLocationID']\n",
    "    df[categorical] = df[categorical].astype(str)\n",
    "    \n",
    "    return df\n",
    "\n",
    "\n",
    "def preprocess(df, dv):\n",
    "    df['PU_DO'] = df['PULocationID'] + '_' + df['DOLocationID']\n",
    "    categorical = ['PU_DO']\n",
    "    numerical = ['trip_distance']\n",
    "    train_dicts = df[categorical + numerical].to_dict(orient='records')\n",
    "    return dv.transform(train_dicts)\n",
    "\n",
    "\n",
    "def test_model(name, stage, X_test, y_test):\n",
    "    model = mlflow.pyfunc.load_model(f\"models:/{name}/{stage}\")\n",
    "    y_pred = model.predict(X_test)\n",
    "    return {\"rmse\": mean_squared_error(y_test, y_pred, squared=False)}"
   ]
  },
  {
   "cell_type": "code",
   "execution_count": 58,
   "metadata": {
    "ExecuteTime": {
     "start_time": "2023-06-12T21:23:43.247851Z",
     "end_time": "2023-06-12T21:23:43.559229Z"
    }
   },
   "outputs": [],
   "source": [
    "df = read_dataframe('./data/green_tripdata_2021-03.parquet')"
   ]
  },
  {
   "cell_type": "code",
   "execution_count": 59,
   "metadata": {
    "ExecuteTime": {
     "start_time": "2023-06-12T21:23:43.561020Z",
     "end_time": "2023-06-12T21:23:43.570828Z"
    }
   },
   "outputs": [
    {
     "name": "stderr",
     "output_type": "stream",
     "text": [
      "/var/folders/0m/hd5nyhdj19b3dcxl72fwby3c0000gn/T/ipykernel_36250/2018306454.py:1: FutureWarning: ``mlflow.tracking.client.MlflowClient.download_artifacts`` is deprecated since 2.0. This method will be removed in a future release. Use ``mlflow.artifacts.download_artifacts`` instead.\n",
      "  client.download_artifacts(run_id=run_id, path='preprocessor', dst_path='.')\n"
     ]
    },
    {
     "data": {
      "text/plain": "'/Users/amberm/PycharmProjects/MLops/MLops/02-experiment-tracking/preprocessor'"
     },
     "execution_count": 59,
     "metadata": {},
     "output_type": "execute_result"
    }
   ],
   "source": [
    "client.download_artifacts(run_id=run_id, path='preprocessor', dst_path='.')"
   ]
  },
  {
   "cell_type": "code",
   "execution_count": 60,
   "metadata": {
    "ExecuteTime": {
     "start_time": "2023-06-12T21:23:43.573676Z",
     "end_time": "2023-06-12T21:23:43.598006Z"
    }
   },
   "outputs": [],
   "source": [
    "import pickle\n",
    "\n",
    "with open(\"preprocessor/preprocessor.b\", \"rb\") as f_in:\n",
    "    dv = pickle.load(f_in)"
   ]
  },
  {
   "cell_type": "code",
   "execution_count": 61,
   "metadata": {
    "ExecuteTime": {
     "start_time": "2023-06-12T21:23:43.583575Z",
     "end_time": "2023-06-12T21:23:43.808207Z"
    }
   },
   "outputs": [],
   "source": [
    "X_test = preprocess(df, dv)"
   ]
  },
  {
   "cell_type": "code",
   "execution_count": 62,
   "metadata": {
    "ExecuteTime": {
     "start_time": "2023-06-12T21:23:43.808945Z",
     "end_time": "2023-06-12T21:23:43.810507Z"
    }
   },
   "outputs": [],
   "source": [
    "target = \"duration\"\n",
    "y_test = df[target].values"
   ]
  },
  {
   "cell_type": "code",
   "execution_count": 63,
   "metadata": {
    "ExecuteTime": {
     "start_time": "2023-06-12T21:23:43.813182Z",
     "end_time": "2023-06-12T21:23:43.902338Z"
    }
   },
   "outputs": [
    {
     "name": "stdout",
     "output_type": "stream",
     "text": [
      "CPU times: user 65.2 ms, sys: 7.01 ms, total: 72.2 ms\n",
      "Wall time: 86.5 ms\n"
     ]
    },
    {
     "data": {
      "text/plain": "{'rmse': 6.659623830022514}"
     },
     "execution_count": 63,
     "metadata": {},
     "output_type": "execute_result"
    }
   ],
   "source": [
    "%time test_model(name=model_name, stage=\"Production\", X_test=X_test, y_test=y_test)"
   ]
  },
  {
   "cell_type": "code",
   "execution_count": 64,
   "metadata": {
    "ExecuteTime": {
     "start_time": "2023-06-12T21:23:43.902979Z",
     "end_time": "2023-06-12T21:23:43.972055Z"
    }
   },
   "outputs": [
    {
     "name": "stdout",
     "output_type": "stream",
     "text": [
      "CPU times: user 63.7 ms, sys: 1.92 ms, total: 65.6 ms\n",
      "Wall time: 64.8 ms\n"
     ]
    },
    {
     "data": {
      "text/plain": "{'rmse': 6.659623830022514}"
     },
     "execution_count": 64,
     "metadata": {},
     "output_type": "execute_result"
    }
   ],
   "source": [
    "%time test_model(name=model_name, stage=\"Staging\", X_test=X_test, y_test=y_test)"
   ]
  },
  {
   "cell_type": "code",
   "execution_count": 65,
   "metadata": {
    "ExecuteTime": {
     "start_time": "2023-06-12T21:23:43.972022Z",
     "end_time": "2023-06-12T21:23:43.977941Z"
    }
   },
   "outputs": [
    {
     "data": {
      "text/plain": "<ModelVersion: aliases=[], creation_timestamp=1686595110491, current_stage='Production', description='', last_updated_timestamp=1686619423971, name='nyc_taxi_regressor', run_id='1cf87a8d01a24711b43a341bf65c8043', run_link='', source='/Users/amberm/PycharmProjects/MLops/MLops/02-experiment-tracking/mlruns/4/1cf87a8d01a24711b43a341bf65c8043/artifacts/model', status='READY', status_message=None, tags={'GradientBoostingRegressor': 'GradientBoostingRegressor'}, user_id=None, version=4>"
     },
     "execution_count": 65,
     "metadata": {},
     "output_type": "execute_result"
    }
   ],
   "source": [
    "client.transition_model_version_stage(\n",
    "    name=model_name,\n",
    "    version=4,\n",
    "    stage=\"Production\",\n",
    "    archive_existing_versions=True\n",
    ")"
   ]
  },
  {
   "cell_type": "code",
   "execution_count": 65,
   "metadata": {
    "ExecuteTime": {
     "start_time": "2023-06-12T21:23:43.978372Z",
     "end_time": "2023-06-12T21:23:43.979541Z"
    }
   },
   "outputs": [],
   "source": []
  },
  {
   "cell_type": "code",
   "execution_count": 65,
   "metadata": {
    "ExecuteTime": {
     "start_time": "2023-06-12T21:23:43.980604Z",
     "end_time": "2023-06-12T21:23:43.981720Z"
    }
   },
   "outputs": [],
   "source": []
  }
 ],
 "metadata": {
  "interpreter": {
   "hash": "0848c9d6c7d415ad6c477ff7ff8e98694d1a4aa96d0deee89244642e6b630036"
  },
  "kernelspec": {
   "display_name": "Python 3.9.12 ('exp-tracking-env')",
   "language": "python",
   "name": "python3"
  },
  "language_info": {
   "codemirror_mode": {
    "name": "ipython",
    "version": 3
   },
   "file_extension": ".py",
   "mimetype": "text/x-python",
   "name": "python",
   "nbconvert_exporter": "python",
   "pygments_lexer": "ipython3",
   "version": "3.9.12"
  },
  "orig_nbformat": 4
 },
 "nbformat": 4,
 "nbformat_minor": 2
}
