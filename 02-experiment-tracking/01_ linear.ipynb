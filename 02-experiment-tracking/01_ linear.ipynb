{
 "cells": [
  {
   "cell_type": "code",
   "execution_count": 358,
   "id": "b2bd82d7",
   "metadata": {
    "ExecuteTime": {
     "start_time": "2023-06-12T13:17:15.737868Z",
     "end_time": "2023-06-12T13:17:15.756088Z"
    }
   },
   "outputs": [],
   "source": [
    "# !python -V"
   ]
  },
  {
   "cell_type": "markdown",
   "source": [
    "### Preprocessing Data"
   ],
   "metadata": {
    "collapsed": false
   }
  },
  {
   "cell_type": "code",
   "execution_count": 359,
   "id": "41062d8a",
   "metadata": {
    "ExecuteTime": {
     "start_time": "2023-06-12T13:17:15.750760Z",
     "end_time": "2023-06-12T13:17:15.766938Z"
    }
   },
   "outputs": [],
   "source": [
    "# import libraries for data preprocessing\n",
    "\n",
    "import pandas as pd\n",
    "from sklearn.feature_extraction import DictVectorizer\n",
    "from sklearn.linear_model import LinearRegression\n",
    "from sklearn.linear_model import Lasso\n",
    "\n",
    "from sklearn.metrics import mean_squared_error"
   ]
  },
  {
   "cell_type": "code",
   "execution_count": 360,
   "id": "4add538c",
   "metadata": {
    "ExecuteTime": {
     "start_time": "2023-06-12T13:17:15.755465Z",
     "end_time": "2023-06-12T13:17:15.767189Z"
    }
   },
   "outputs": [],
   "source": [
    "import mlflow"
   ]
  },
  {
   "cell_type": "code",
   "execution_count": 361,
   "outputs": [],
   "source": [
    "# mlflow.delete_experiment(0)\n",
    "\n",
    "# mlflow.start_run()\n",
    "# run = mlflow.active_run()\n",
    "# print(\"Active run_id: {}\".format(run.info.run_id))\n",
    "# mlflow.end_run()"
   ],
   "metadata": {
    "collapsed": false,
    "ExecuteTime": {
     "start_time": "2023-06-12T13:17:15.764366Z",
     "end_time": "2023-06-12T13:17:15.767407Z"
    }
   }
  },
  {
   "cell_type": "code",
   "execution_count": 362,
   "id": "1464985f",
   "metadata": {
    "ExecuteTime": {
     "start_time": "2023-06-12T13:17:15.766267Z",
     "end_time": "2023-06-12T13:17:15.813917Z"
    }
   },
   "outputs": [
    {
     "data": {
      "text/plain": "<Experiment: artifact_location='/Users/amberm/PycharmProjects/MLops/MLops/02-experiment-tracking/mlruns/1', creation_time=1686581306153, experiment_id='1', last_update_time=1686581306153, lifecycle_stage='active', name='nyc-taxi-experiment', tags={}>"
     },
     "execution_count": 362,
     "metadata": {},
     "output_type": "execute_result"
    }
   ],
   "source": [
    "# sqlite is used as mlflow backend and set the experiment name for tracking\n",
    "mlflow.set_tracking_uri(\"sqlite:///mlflow.db\")\n",
    "mlflow.set_experiment(\"nyc-taxi-experiment\")"
   ]
  },
  {
   "cell_type": "markdown",
   "source": [
    "### Train using Linear Regressor and set the experiment to mlflow manually"
   ],
   "metadata": {
    "collapsed": false
   }
  },
  {
   "cell_type": "code",
   "execution_count": 363,
   "id": "f9e6479e",
   "metadata": {
    "ExecuteTime": {
     "start_time": "2023-06-12T13:17:15.816843Z",
     "end_time": "2023-06-12T13:17:15.819233Z"
    }
   },
   "outputs": [],
   "source": [
    "# Preprocessing Data\n",
    "# function to read the data and remove outliers\n",
    "\n",
    "def read_dataframe(filename):\n",
    "    df = pd.read_parquet(filename)\n",
    "\n",
    "    df.lpep_dropoff_datetime = pd.to_datetime(df.lpep_dropoff_datetime)\n",
    "    df.lpep_pickup_datetime = pd.to_datetime(df.lpep_pickup_datetime)\n",
    "\n",
    "    df['duration'] = df.lpep_dropoff_datetime - df.lpep_pickup_datetime\n",
    "    df.duration = df.duration.apply(lambda td: td.total_seconds() / 60)\n",
    "\n",
    "    df = df[(df.duration >= 1) & (df.duration <= 60)]\n",
    "\n",
    "    categorical = ['PULocationID', 'DOLocationID']\n",
    "    df[categorical] = df[categorical].astype(str)\n",
    "    \n",
    "    return df"
   ]
  },
  {
   "cell_type": "code",
   "execution_count": 364,
   "id": "8029eba0",
   "metadata": {
    "ExecuteTime": {
     "start_time": "2023-06-12T13:17:15.828019Z",
     "end_time": "2023-06-12T13:17:17.502441Z"
    }
   },
   "outputs": [],
   "source": [
    "# call read and preprocessing functions for train, validation dataset\n",
    "df_train = read_dataframe('./data/green_tripdata_2021-01.parquet')\n",
    "df_val = read_dataframe('./data/green_tripdata_2021-02.parquet')"
   ]
  },
  {
   "cell_type": "code",
   "execution_count": 365,
   "id": "f6f2f0eb",
   "metadata": {
    "ExecuteTime": {
     "start_time": "2023-06-12T13:17:17.509702Z",
     "end_time": "2023-06-12T13:17:17.509859Z"
    }
   },
   "outputs": [
    {
     "data": {
      "text/plain": "(73908, 61921)"
     },
     "execution_count": 365,
     "metadata": {},
     "output_type": "execute_result"
    }
   ],
   "source": [
    "# info of dataset\n",
    "len(df_train), len(df_val)"
   ]
  },
  {
   "cell_type": "code",
   "execution_count": 366,
   "id": "951d51ef",
   "metadata": {
    "ExecuteTime": {
     "start_time": "2023-06-12T13:17:17.509954Z",
     "end_time": "2023-06-12T13:17:17.569634Z"
    }
   },
   "outputs": [],
   "source": [
    "# feature engineering\n",
    "df_train['PU_DO'] = df_train['PULocationID'] + '_' + df_train['DOLocationID']\n",
    "df_val['PU_DO'] = df_val['PULocationID'] + '_' + df_val['DOLocationID']"
   ]
  },
  {
   "cell_type": "code",
   "execution_count": 367,
   "id": "c5cbfc25",
   "metadata": {
    "ExecuteTime": {
     "start_time": "2023-06-12T13:17:17.552342Z",
     "end_time": "2023-06-12T13:17:18.073199Z"
    }
   },
   "outputs": [],
   "source": [
    "# fit the dictvectorizer and preprocess data\n",
    "categorical = ['PU_DO'] #'PULocationID', 'DOLocationID']\n",
    "numerical = ['trip_distance']\n",
    "\n",
    "dv = DictVectorizer()\n",
    "\n",
    "train_dicts = df_train[categorical + numerical].to_dict(orient='records')\n",
    "X_train = dv.fit_transform(train_dicts)\n",
    "\n",
    "val_dicts = df_val[categorical + numerical].to_dict(orient='records')\n",
    "X_val = dv.transform(val_dicts)\n",
    "target = 'duration'\n",
    "y_train = df_train[target].values\n",
    "y_val = df_val[target].values"
   ]
  },
  {
   "cell_type": "code",
   "execution_count": 368,
   "id": "429e2394",
   "metadata": {
    "ExecuteTime": {
     "start_time": "2023-06-12T13:17:18.073417Z",
     "end_time": "2023-06-12T13:17:18.156757Z"
    }
   },
   "outputs": [
    {
     "data": {
      "text/plain": "7.758715210403367"
     },
     "execution_count": 368,
     "metadata": {},
     "output_type": "execute_result"
    }
   ],
   "source": [
    "# 1. Train a linear model (without mlflow)\n",
    "lr = LinearRegression()\n",
    "lr.fit(X_train, y_train)\n",
    "\n",
    "y_pred = lr.predict(X_val)\n",
    "\n",
    "mean_squared_error(y_val, y_pred, squared=False)"
   ]
  },
  {
   "cell_type": "code",
   "execution_count": 369,
   "id": "22bf6f8b",
   "metadata": {
    "ExecuteTime": {
     "start_time": "2023-06-12T13:17:18.157431Z",
     "end_time": "2023-06-12T13:17:18.159646Z"
    }
   },
   "outputs": [],
   "source": [
    "# with open('models/lin_reg.bin', 'wb') as f_out:\n",
    "#     pickle.dump((dv, lr), f_out)"
   ]
  },
  {
   "cell_type": "code",
   "execution_count": 370,
   "outputs": [],
   "source": [
    "# Train another linear model (Lasso)\n",
    "# lr = Lasso(0.01)\n",
    "# lr.fit(X_train, y_train)\n",
    "#\n",
    "# y_pred = lr.predict(X_val)\n",
    "#\n",
    "# mean_squared_error(y_val, y_pred, squared=False)"
   ],
   "metadata": {
    "collapsed": false,
    "ExecuteTime": {
     "start_time": "2023-06-12T13:17:18.162239Z",
     "end_time": "2023-06-12T13:17:18.163971Z"
    }
   }
  },
  {
   "cell_type": "code",
   "execution_count": 371,
   "id": "a4999b94",
   "metadata": {
    "ExecuteTime": {
     "start_time": "2023-06-12T13:17:18.166319Z",
     "end_time": "2023-06-12T13:17:21.043090Z"
    }
   },
   "outputs": [],
   "source": [
    "# 2. Train a linear model (with mlflow)\n",
    "\n",
    "with mlflow.start_run():\n",
    "\n",
    "    mlflow.set_tag(\"developer\", \"Amber\")\n",
    "\n",
    "    mlflow.log_param(\"train-data-path\", \"./data/green_tripdata_2021-01.parquet\")\n",
    "    mlflow.log_param(\"valid-data-path\", \"./data/green_tripdata_2021-02.parquet\")\n",
    "\n",
    "    alpha = 0.01\n",
    "    mlflow.log_param(\"alpha\", alpha)\n",
    "\n",
    "    lr = Lasso(alpha)\n",
    "    lr.fit(X_train, y_train)\n",
    "\n",
    "    y_pred = lr.predict(X_val)\n",
    "\n",
    "    rmse = mean_squared_error(y_val, y_pred, squared=False)\n",
    "\n",
    "    mlflow.log_metric(\"rmse\", rmse)\n",
    "    mlflow.log_artifact(local_path=\"models/lin_reg.bin\", artifact_path=\"models_pickle\")\n"
   ]
  }
 ],
 "metadata": {
  "interpreter": {
   "hash": "0848c9d6c7d415ad6c477ff7ff8e98694d1a4aa96d0deee89244642e6b630036"
  },
  "kernelspec": {
   "display_name": "Python 3 (ipykernel)",
   "language": "python",
   "name": "python3"
  },
  "language_info": {
   "codemirror_mode": {
    "name": "ipython",
    "version": 3
   },
   "file_extension": ".py",
   "mimetype": "text/x-python",
   "name": "python",
   "nbconvert_exporter": "python",
   "pygments_lexer": "ipython3",
   "version": "3.9.12"
  }
 },
 "nbformat": 4,
 "nbformat_minor": 5
}
