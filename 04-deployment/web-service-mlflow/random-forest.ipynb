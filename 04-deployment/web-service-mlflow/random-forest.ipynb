{
 "cells": [
  {
   "cell_type": "code",
   "execution_count": 8,
   "id": "2e25cf66",
   "metadata": {
    "ExecuteTime": {
     "start_time": "2023-07-11T01:54:05.433512Z",
     "end_time": "2023-07-11T01:54:05.436335Z"
    }
   },
   "outputs": [],
   "source": [
    "import pickle\n",
    "\n",
    "import pandas as pd\n",
    "\n",
    "from sklearn.feature_extraction import DictVectorizer\n",
    "from sklearn.ensemble import RandomForestRegressor\n",
    "from sklearn.metrics import mean_squared_error"
   ]
  },
  {
   "cell_type": "code",
   "execution_count": 9,
   "id": "041e9423",
   "metadata": {
    "ExecuteTime": {
     "start_time": "2023-07-11T01:54:06.036630Z",
     "end_time": "2023-07-11T01:54:06.039285Z"
    }
   },
   "outputs": [],
   "source": [
    "from sklearn.pipeline import make_pipeline"
   ]
  },
  {
   "cell_type": "code",
   "execution_count": 10,
   "id": "506bec39",
   "metadata": {
    "ExecuteTime": {
     "start_time": "2023-07-11T01:42:34.382463Z",
     "end_time": "2023-07-11T01:42:34.421720Z"
    }
   },
   "outputs": [
    {
     "ename": "MlflowException",
     "evalue": "API request to endpoint /api/2.0/mlflow/experiments/get-by-name failed with error code 403 != 200. Response body: ''",
     "output_type": "error",
     "traceback": [
      "\u001B[0;31m---------------------------------------------------------------------------\u001B[0m",
      "\u001B[0;31mMlflowException\u001B[0m                           Traceback (most recent call last)",
      "Cell \u001B[0;32mIn[10], line 4\u001B[0m\n\u001B[1;32m      1\u001B[0m \u001B[38;5;28;01mimport\u001B[39;00m \u001B[38;5;21;01mmlflow\u001B[39;00m\n\u001B[1;32m      3\u001B[0m mlflow\u001B[38;5;241m.\u001B[39mset_tracking_uri(\u001B[38;5;124m\"\u001B[39m\u001B[38;5;124mhttp://127.0.0.1:5000\u001B[39m\u001B[38;5;124m\"\u001B[39m)\n\u001B[0;32m----> 4\u001B[0m \u001B[43mmlflow\u001B[49m\u001B[38;5;241;43m.\u001B[39;49m\u001B[43mset_experiment\u001B[49m\u001B[43m(\u001B[49m\u001B[38;5;124;43m\"\u001B[39;49m\u001B[38;5;124;43mgreen-taxi-duration\u001B[39;49m\u001B[38;5;124;43m\"\u001B[39;49m\u001B[43m)\u001B[49m\n",
      "File \u001B[0;32m~/anaconda3/lib/python3.10/site-packages/mlflow/tracking/fluent.py:114\u001B[0m, in \u001B[0;36mset_experiment\u001B[0;34m(experiment_name, experiment_id)\u001B[0m\n\u001B[1;32m    112\u001B[0m client \u001B[38;5;241m=\u001B[39m MlflowClient()\n\u001B[1;32m    113\u001B[0m \u001B[38;5;28;01mif\u001B[39;00m experiment_id \u001B[38;5;129;01mis\u001B[39;00m \u001B[38;5;28;01mNone\u001B[39;00m:\n\u001B[0;32m--> 114\u001B[0m     experiment \u001B[38;5;241m=\u001B[39m \u001B[43mclient\u001B[49m\u001B[38;5;241;43m.\u001B[39;49m\u001B[43mget_experiment_by_name\u001B[49m\u001B[43m(\u001B[49m\u001B[43mexperiment_name\u001B[49m\u001B[43m)\u001B[49m\n\u001B[1;32m    115\u001B[0m     \u001B[38;5;28;01mif\u001B[39;00m \u001B[38;5;129;01mnot\u001B[39;00m experiment:\n\u001B[1;32m    116\u001B[0m         _logger\u001B[38;5;241m.\u001B[39minfo(\n\u001B[1;32m    117\u001B[0m             \u001B[38;5;124m\"\u001B[39m\u001B[38;5;124mExperiment with name \u001B[39m\u001B[38;5;124m'\u001B[39m\u001B[38;5;132;01m%s\u001B[39;00m\u001B[38;5;124m'\u001B[39m\u001B[38;5;124m does not exist. Creating a new experiment.\u001B[39m\u001B[38;5;124m\"\u001B[39m,\n\u001B[1;32m    118\u001B[0m             experiment_name,\n\u001B[1;32m    119\u001B[0m         )\n",
      "File \u001B[0;32m~/anaconda3/lib/python3.10/site-packages/mlflow/tracking/client.py:461\u001B[0m, in \u001B[0;36mMlflowClient.get_experiment_by_name\u001B[0;34m(self, name)\u001B[0m\n\u001B[1;32m    430\u001B[0m \u001B[38;5;28;01mdef\u001B[39;00m \u001B[38;5;21mget_experiment_by_name\u001B[39m(\u001B[38;5;28mself\u001B[39m, name: \u001B[38;5;28mstr\u001B[39m) \u001B[38;5;241m-\u001B[39m\u001B[38;5;241m>\u001B[39m Optional[Experiment]:\n\u001B[1;32m    431\u001B[0m \u001B[38;5;250m    \u001B[39m\u001B[38;5;124;03m\"\"\"\u001B[39;00m\n\u001B[1;32m    432\u001B[0m \u001B[38;5;124;03m    Retrieve an experiment by experiment name from the backend store\u001B[39;00m\n\u001B[1;32m    433\u001B[0m \n\u001B[0;32m   (...)\u001B[0m\n\u001B[1;32m    459\u001B[0m \u001B[38;5;124;03m        Lifecycle_stage: active\u001B[39;00m\n\u001B[1;32m    460\u001B[0m \u001B[38;5;124;03m    \"\"\"\u001B[39;00m\n\u001B[0;32m--> 461\u001B[0m     \u001B[38;5;28;01mreturn\u001B[39;00m \u001B[38;5;28;43mself\u001B[39;49m\u001B[38;5;241;43m.\u001B[39;49m\u001B[43m_tracking_client\u001B[49m\u001B[38;5;241;43m.\u001B[39;49m\u001B[43mget_experiment_by_name\u001B[49m\u001B[43m(\u001B[49m\u001B[43mname\u001B[49m\u001B[43m)\u001B[49m\n",
      "File \u001B[0;32m~/anaconda3/lib/python3.10/site-packages/mlflow/tracking/_tracking_service/client.py:220\u001B[0m, in \u001B[0;36mTrackingServiceClient.get_experiment_by_name\u001B[0;34m(self, name)\u001B[0m\n\u001B[1;32m    215\u001B[0m \u001B[38;5;28;01mdef\u001B[39;00m \u001B[38;5;21mget_experiment_by_name\u001B[39m(\u001B[38;5;28mself\u001B[39m, name):\n\u001B[1;32m    216\u001B[0m \u001B[38;5;250m    \u001B[39m\u001B[38;5;124;03m\"\"\"\u001B[39;00m\n\u001B[1;32m    217\u001B[0m \u001B[38;5;124;03m    :param name: The experiment name.\u001B[39;00m\n\u001B[1;32m    218\u001B[0m \u001B[38;5;124;03m    :return: :py:class:`mlflow.entities.Experiment`\u001B[39;00m\n\u001B[1;32m    219\u001B[0m \u001B[38;5;124;03m    \"\"\"\u001B[39;00m\n\u001B[0;32m--> 220\u001B[0m     \u001B[38;5;28;01mreturn\u001B[39;00m \u001B[38;5;28;43mself\u001B[39;49m\u001B[38;5;241;43m.\u001B[39;49m\u001B[43mstore\u001B[49m\u001B[38;5;241;43m.\u001B[39;49m\u001B[43mget_experiment_by_name\u001B[49m\u001B[43m(\u001B[49m\u001B[43mname\u001B[49m\u001B[43m)\u001B[49m\n",
      "File \u001B[0;32m~/anaconda3/lib/python3.10/site-packages/mlflow/store/tracking/rest_store.py:304\u001B[0m, in \u001B[0;36mRestStore.get_experiment_by_name\u001B[0;34m(self, experiment_name)\u001B[0m\n\u001B[1;32m    302\u001B[0m \u001B[38;5;28;01mtry\u001B[39;00m:\n\u001B[1;32m    303\u001B[0m     req_body \u001B[38;5;241m=\u001B[39m message_to_json(GetExperimentByName(experiment_name\u001B[38;5;241m=\u001B[39mexperiment_name))\n\u001B[0;32m--> 304\u001B[0m     response_proto \u001B[38;5;241m=\u001B[39m \u001B[38;5;28;43mself\u001B[39;49m\u001B[38;5;241;43m.\u001B[39;49m\u001B[43m_call_endpoint\u001B[49m\u001B[43m(\u001B[49m\u001B[43mGetExperimentByName\u001B[49m\u001B[43m,\u001B[49m\u001B[43m \u001B[49m\u001B[43mreq_body\u001B[49m\u001B[43m)\u001B[49m\n\u001B[1;32m    305\u001B[0m     \u001B[38;5;28;01mreturn\u001B[39;00m Experiment\u001B[38;5;241m.\u001B[39mfrom_proto(response_proto\u001B[38;5;241m.\u001B[39mexperiment)\n\u001B[1;32m    306\u001B[0m \u001B[38;5;28;01mexcept\u001B[39;00m MlflowException \u001B[38;5;28;01mas\u001B[39;00m e:\n",
      "File \u001B[0;32m~/anaconda3/lib/python3.10/site-packages/mlflow/store/tracking/rest_store.py:56\u001B[0m, in \u001B[0;36mRestStore._call_endpoint\u001B[0;34m(self, api, json_body)\u001B[0m\n\u001B[1;32m     54\u001B[0m endpoint, method \u001B[38;5;241m=\u001B[39m _METHOD_TO_INFO[api]\n\u001B[1;32m     55\u001B[0m response_proto \u001B[38;5;241m=\u001B[39m api\u001B[38;5;241m.\u001B[39mResponse()\n\u001B[0;32m---> 56\u001B[0m \u001B[38;5;28;01mreturn\u001B[39;00m \u001B[43mcall_endpoint\u001B[49m\u001B[43m(\u001B[49m\u001B[38;5;28;43mself\u001B[39;49m\u001B[38;5;241;43m.\u001B[39;49m\u001B[43mget_host_creds\u001B[49m\u001B[43m(\u001B[49m\u001B[43m)\u001B[49m\u001B[43m,\u001B[49m\u001B[43m \u001B[49m\u001B[43mendpoint\u001B[49m\u001B[43m,\u001B[49m\u001B[43m \u001B[49m\u001B[43mmethod\u001B[49m\u001B[43m,\u001B[49m\u001B[43m \u001B[49m\u001B[43mjson_body\u001B[49m\u001B[43m,\u001B[49m\u001B[43m \u001B[49m\u001B[43mresponse_proto\u001B[49m\u001B[43m)\u001B[49m\n",
      "File \u001B[0;32m~/anaconda3/lib/python3.10/site-packages/mlflow/utils/rest_utils.py:303\u001B[0m, in \u001B[0;36mcall_endpoint\u001B[0;34m(host_creds, endpoint, method, json_body, response_proto)\u001B[0m\n\u001B[1;32m    299\u001B[0m \u001B[38;5;28;01melse\u001B[39;00m:\n\u001B[1;32m    300\u001B[0m     response \u001B[38;5;241m=\u001B[39m http_request(\n\u001B[1;32m    301\u001B[0m         host_creds\u001B[38;5;241m=\u001B[39mhost_creds, endpoint\u001B[38;5;241m=\u001B[39mendpoint, method\u001B[38;5;241m=\u001B[39mmethod, json\u001B[38;5;241m=\u001B[39mjson_body\n\u001B[1;32m    302\u001B[0m     )\n\u001B[0;32m--> 303\u001B[0m response \u001B[38;5;241m=\u001B[39m \u001B[43mverify_rest_response\u001B[49m\u001B[43m(\u001B[49m\u001B[43mresponse\u001B[49m\u001B[43m,\u001B[49m\u001B[43m \u001B[49m\u001B[43mendpoint\u001B[49m\u001B[43m)\u001B[49m\n\u001B[1;32m    304\u001B[0m js_dict \u001B[38;5;241m=\u001B[39m json\u001B[38;5;241m.\u001B[39mloads(response\u001B[38;5;241m.\u001B[39mtext)\n\u001B[1;32m    305\u001B[0m parse_dict(js_dict\u001B[38;5;241m=\u001B[39mjs_dict, message\u001B[38;5;241m=\u001B[39mresponse_proto)\n",
      "File \u001B[0;32m~/anaconda3/lib/python3.10/site-packages/mlflow/utils/rest_utils.py:233\u001B[0m, in \u001B[0;36mverify_rest_response\u001B[0;34m(response, endpoint)\u001B[0m\n\u001B[1;32m    228\u001B[0m     \u001B[38;5;28;01melse\u001B[39;00m:\n\u001B[1;32m    229\u001B[0m         base_msg \u001B[38;5;241m=\u001B[39m \u001B[38;5;124m\"\u001B[39m\u001B[38;5;124mAPI request to endpoint \u001B[39m\u001B[38;5;132;01m{}\u001B[39;00m\u001B[38;5;124m failed with error code \u001B[39m\u001B[38;5;132;01m{}\u001B[39;00m\u001B[38;5;124m != 200\u001B[39m\u001B[38;5;124m\"\u001B[39m\u001B[38;5;241m.\u001B[39mformat(\n\u001B[1;32m    230\u001B[0m             endpoint,\n\u001B[1;32m    231\u001B[0m             response\u001B[38;5;241m.\u001B[39mstatus_code,\n\u001B[1;32m    232\u001B[0m         )\n\u001B[0;32m--> 233\u001B[0m         \u001B[38;5;28;01mraise\u001B[39;00m MlflowException(\n\u001B[1;32m    234\u001B[0m             \u001B[38;5;124m\"\u001B[39m\u001B[38;5;132;01m{}\u001B[39;00m\u001B[38;5;124m. Response body: \u001B[39m\u001B[38;5;124m'\u001B[39m\u001B[38;5;132;01m{}\u001B[39;00m\u001B[38;5;124m'\u001B[39m\u001B[38;5;124m\"\u001B[39m\u001B[38;5;241m.\u001B[39mformat(base_msg, response\u001B[38;5;241m.\u001B[39mtext),\n\u001B[1;32m    235\u001B[0m             error_code\u001B[38;5;241m=\u001B[39mget_error_code(response\u001B[38;5;241m.\u001B[39mstatus_code),\n\u001B[1;32m    236\u001B[0m         )\n\u001B[1;32m    238\u001B[0m \u001B[38;5;66;03m# Skip validation for endpoints (e.g. DBFS file-download API) which may return a non-JSON\u001B[39;00m\n\u001B[1;32m    239\u001B[0m \u001B[38;5;66;03m# response\u001B[39;00m\n\u001B[1;32m    240\u001B[0m \u001B[38;5;28;01mif\u001B[39;00m endpoint\u001B[38;5;241m.\u001B[39mstartswith(_REST_API_PATH_PREFIX) \u001B[38;5;129;01mand\u001B[39;00m \u001B[38;5;129;01mnot\u001B[39;00m _can_parse_as_json_object(response\u001B[38;5;241m.\u001B[39mtext):\n",
      "\u001B[0;31mMlflowException\u001B[0m: API request to endpoint /api/2.0/mlflow/experiments/get-by-name failed with error code 403 != 200. Response body: ''"
     ]
    }
   ],
   "source": [
    "import mlflow\n",
    "\n",
    "mlflow.set_tracking_uri(\"http://127.0.0.1:5000\")\n",
    "mlflow.set_experiment(\"green-taxi-duration\")"
   ]
  },
  {
   "cell_type": "code",
   "execution_count": 11,
   "id": "b9666e19",
   "metadata": {
    "ExecuteTime": {
     "start_time": "2023-07-11T01:54:09.855194Z",
     "end_time": "2023-07-11T01:54:09.869819Z"
    }
   },
   "outputs": [],
   "source": [
    "def read_dataframe(filename: str):\n",
    "    df = pd.read_parquet(filename)\n",
    "\n",
    "    df['duration'] = df.lpep_dropoff_datetime - df.lpep_pickup_datetime\n",
    "    df.duration = df.duration.dt.total_seconds() / 60\n",
    "    df = df[(df.duration >= 1) & (df.duration <= 60)]\n",
    "\n",
    "    categorical = ['PULocationID', 'DOLocationID']\n",
    "    df[categorical] = df[categorical].astype(str)\n",
    "    return df\n",
    "\n",
    "\n",
    "def prepare_dictionaries(df: pd.DataFrame):\n",
    "    df['PU_DO'] = df['PULocationID'] + '_' + df['DOLocationID']\n",
    "    categorical = ['PU_DO']\n",
    "    numerical = ['trip_distance']\n",
    "    dicts = df[categorical + numerical].to_dict(orient='records')\n",
    "    return dicts"
   ]
  },
  {
   "cell_type": "code",
   "execution_count": 12,
   "id": "6b5f0d80",
   "metadata": {
    "ExecuteTime": {
     "start_time": "2023-07-11T01:54:10.677890Z",
     "end_time": "2023-07-11T01:54:11.128135Z"
    }
   },
   "outputs": [],
   "source": [
    "df_train = read_dataframe('/Users/amberm/PycharmProjects/MLops/04-deployment/web-service-mlflow/data/green_tripdata_2021-01.parquet')\n",
    "df_val = read_dataframe('/Users/amberm/PycharmProjects/MLops/04-deployment/web-service-mlflow/data/green_tripdata_2021-02.parquet')\n",
    "\n",
    "target = 'duration'\n",
    "y_train = df_train[target].values\n",
    "y_val = df_val[target].values\n",
    "\n",
    "dict_train = prepare_dictionaries(df_train)\n",
    "dict_val = prepare_dictionaries(df_val)"
   ]
  },
  {
   "cell_type": "code",
   "execution_count": 13,
   "id": "c73081e1",
   "metadata": {
    "ExecuteTime": {
     "start_time": "2023-07-09T20:58:37.234207Z",
     "end_time": "2023-07-09T20:59:10.120514Z"
    }
   },
   "outputs": [
    {
     "ename": "MlflowException",
     "evalue": "API request to endpoint /api/2.0/mlflow/runs/create failed with error code 403 != 200. Response body: ''",
     "output_type": "error",
     "traceback": [
      "\u001B[0;31m---------------------------------------------------------------------------\u001B[0m",
      "\u001B[0;31mMlflowException\u001B[0m                           Traceback (most recent call last)",
      "Cell \u001B[0;32mIn[13], line 1\u001B[0m\n\u001B[0;32m----> 1\u001B[0m \u001B[38;5;28;01mwith\u001B[39;00m \u001B[43mmlflow\u001B[49m\u001B[38;5;241;43m.\u001B[39;49m\u001B[43mstart_run\u001B[49m\u001B[43m(\u001B[49m\u001B[43m)\u001B[49m:\n\u001B[1;32m      2\u001B[0m     params \u001B[38;5;241m=\u001B[39m \u001B[38;5;28mdict\u001B[39m(max_depth\u001B[38;5;241m=\u001B[39m\u001B[38;5;241m20\u001B[39m, n_estimators\u001B[38;5;241m=\u001B[39m\u001B[38;5;241m100\u001B[39m, min_samples_leaf\u001B[38;5;241m=\u001B[39m\u001B[38;5;241m10\u001B[39m, random_state\u001B[38;5;241m=\u001B[39m\u001B[38;5;241m0\u001B[39m)\n\u001B[1;32m      3\u001B[0m     mlflow\u001B[38;5;241m.\u001B[39mlog_params(params)\n",
      "File \u001B[0;32m~/anaconda3/lib/python3.10/site-packages/mlflow/tracking/fluent.py:351\u001B[0m, in \u001B[0;36mstart_run\u001B[0;34m(run_id, experiment_id, run_name, nested, tags, description)\u001B[0m\n\u001B[1;32m    347\u001B[0m         user_specified_tags[MLFLOW_RUN_NAME] \u001B[38;5;241m=\u001B[39m run_name\n\u001B[1;32m    349\u001B[0m     resolved_tags \u001B[38;5;241m=\u001B[39m context_registry\u001B[38;5;241m.\u001B[39mresolve_tags(user_specified_tags)\n\u001B[0;32m--> 351\u001B[0m     active_run_obj \u001B[38;5;241m=\u001B[39m \u001B[43mclient\u001B[49m\u001B[38;5;241;43m.\u001B[39;49m\u001B[43mcreate_run\u001B[49m\u001B[43m(\u001B[49m\n\u001B[1;32m    352\u001B[0m \u001B[43m        \u001B[49m\u001B[43mexperiment_id\u001B[49m\u001B[38;5;241;43m=\u001B[39;49m\u001B[43mexp_id_for_run\u001B[49m\u001B[43m,\u001B[49m\u001B[43m \u001B[49m\u001B[43mtags\u001B[49m\u001B[38;5;241;43m=\u001B[39;49m\u001B[43mresolved_tags\u001B[49m\u001B[43m,\u001B[49m\u001B[43m \u001B[49m\u001B[43mrun_name\u001B[49m\u001B[38;5;241;43m=\u001B[39;49m\u001B[43mrun_name\u001B[49m\n\u001B[1;32m    353\u001B[0m \u001B[43m    \u001B[49m\u001B[43m)\u001B[49m\n\u001B[1;32m    355\u001B[0m _active_run_stack\u001B[38;5;241m.\u001B[39mappend(ActiveRun(active_run_obj))\n\u001B[1;32m    356\u001B[0m \u001B[38;5;28;01mreturn\u001B[39;00m _active_run_stack[\u001B[38;5;241m-\u001B[39m\u001B[38;5;241m1\u001B[39m]\n",
      "File \u001B[0;32m~/anaconda3/lib/python3.10/site-packages/mlflow/tracking/client.py:280\u001B[0m, in \u001B[0;36mMlflowClient.create_run\u001B[0;34m(self, experiment_id, start_time, tags, run_name)\u001B[0m\n\u001B[1;32m    229\u001B[0m \u001B[38;5;28;01mdef\u001B[39;00m \u001B[38;5;21mcreate_run\u001B[39m(\n\u001B[1;32m    230\u001B[0m     \u001B[38;5;28mself\u001B[39m,\n\u001B[1;32m    231\u001B[0m     experiment_id: \u001B[38;5;28mstr\u001B[39m,\n\u001B[0;32m   (...)\u001B[0m\n\u001B[1;32m    234\u001B[0m     run_name: Optional[\u001B[38;5;28mstr\u001B[39m] \u001B[38;5;241m=\u001B[39m \u001B[38;5;28;01mNone\u001B[39;00m,\n\u001B[1;32m    235\u001B[0m ) \u001B[38;5;241m-\u001B[39m\u001B[38;5;241m>\u001B[39m Run:\n\u001B[1;32m    236\u001B[0m \u001B[38;5;250m    \u001B[39m\u001B[38;5;124;03m\"\"\"\u001B[39;00m\n\u001B[1;32m    237\u001B[0m \u001B[38;5;124;03m    Create a :py:class:`mlflow.entities.Run` object that can be associated with\u001B[39;00m\n\u001B[1;32m    238\u001B[0m \u001B[38;5;124;03m    metrics, parameters, artifacts, etc.\u001B[39;00m\n\u001B[0;32m   (...)\u001B[0m\n\u001B[1;32m    278\u001B[0m \u001B[38;5;124;03m        status: RUNNING\u001B[39;00m\n\u001B[1;32m    279\u001B[0m \u001B[38;5;124;03m    \"\"\"\u001B[39;00m\n\u001B[0;32m--> 280\u001B[0m     \u001B[38;5;28;01mreturn\u001B[39;00m \u001B[38;5;28;43mself\u001B[39;49m\u001B[38;5;241;43m.\u001B[39;49m\u001B[43m_tracking_client\u001B[49m\u001B[38;5;241;43m.\u001B[39;49m\u001B[43mcreate_run\u001B[49m\u001B[43m(\u001B[49m\u001B[43mexperiment_id\u001B[49m\u001B[43m,\u001B[49m\u001B[43m \u001B[49m\u001B[43mstart_time\u001B[49m\u001B[43m,\u001B[49m\u001B[43m \u001B[49m\u001B[43mtags\u001B[49m\u001B[43m,\u001B[49m\u001B[43m \u001B[49m\u001B[43mrun_name\u001B[49m\u001B[43m)\u001B[49m\n",
      "File \u001B[0;32m~/anaconda3/lib/python3.10/site-packages/mlflow/tracking/_tracking_service/client.py:131\u001B[0m, in \u001B[0;36mTrackingServiceClient.create_run\u001B[0;34m(self, experiment_id, start_time, tags, run_name)\u001B[0m\n\u001B[1;32m    126\u001B[0m \u001B[38;5;66;03m# Extract user from tags\u001B[39;00m\n\u001B[1;32m    127\u001B[0m \u001B[38;5;66;03m# This logic is temporary; the user_id attribute of runs is deprecated and will be removed\u001B[39;00m\n\u001B[1;32m    128\u001B[0m \u001B[38;5;66;03m# in a later release.\u001B[39;00m\n\u001B[1;32m    129\u001B[0m user_id \u001B[38;5;241m=\u001B[39m tags\u001B[38;5;241m.\u001B[39mget(MLFLOW_USER, \u001B[38;5;124m\"\u001B[39m\u001B[38;5;124munknown\u001B[39m\u001B[38;5;124m\"\u001B[39m)\n\u001B[0;32m--> 131\u001B[0m \u001B[38;5;28;01mreturn\u001B[39;00m \u001B[38;5;28;43mself\u001B[39;49m\u001B[38;5;241;43m.\u001B[39;49m\u001B[43mstore\u001B[49m\u001B[38;5;241;43m.\u001B[39;49m\u001B[43mcreate_run\u001B[49m\u001B[43m(\u001B[49m\n\u001B[1;32m    132\u001B[0m \u001B[43m    \u001B[49m\u001B[43mexperiment_id\u001B[49m\u001B[38;5;241;43m=\u001B[39;49m\u001B[43mexperiment_id\u001B[49m\u001B[43m,\u001B[49m\n\u001B[1;32m    133\u001B[0m \u001B[43m    \u001B[49m\u001B[43muser_id\u001B[49m\u001B[38;5;241;43m=\u001B[39;49m\u001B[43muser_id\u001B[49m\u001B[43m,\u001B[49m\n\u001B[1;32m    134\u001B[0m \u001B[43m    \u001B[49m\u001B[43mstart_time\u001B[49m\u001B[38;5;241;43m=\u001B[39;49m\u001B[43mstart_time\u001B[49m\u001B[43m \u001B[49m\u001B[38;5;129;43;01mor\u001B[39;49;00m\u001B[43m \u001B[49m\u001B[43mget_current_time_millis\u001B[49m\u001B[43m(\u001B[49m\u001B[43m)\u001B[49m\u001B[43m,\u001B[49m\n\u001B[1;32m    135\u001B[0m \u001B[43m    \u001B[49m\u001B[43mtags\u001B[49m\u001B[38;5;241;43m=\u001B[39;49m\u001B[43m[\u001B[49m\u001B[43mRunTag\u001B[49m\u001B[43m(\u001B[49m\u001B[43mkey\u001B[49m\u001B[43m,\u001B[49m\u001B[43m \u001B[49m\u001B[43mvalue\u001B[49m\u001B[43m)\u001B[49m\u001B[43m \u001B[49m\u001B[38;5;28;43;01mfor\u001B[39;49;00m\u001B[43m \u001B[49m\u001B[43m(\u001B[49m\u001B[43mkey\u001B[49m\u001B[43m,\u001B[49m\u001B[43m \u001B[49m\u001B[43mvalue\u001B[49m\u001B[43m)\u001B[49m\u001B[43m \u001B[49m\u001B[38;5;129;43;01min\u001B[39;49;00m\u001B[43m \u001B[49m\u001B[43mtags\u001B[49m\u001B[38;5;241;43m.\u001B[39;49m\u001B[43mitems\u001B[49m\u001B[43m(\u001B[49m\u001B[43m)\u001B[49m\u001B[43m]\u001B[49m\u001B[43m,\u001B[49m\n\u001B[1;32m    136\u001B[0m \u001B[43m    \u001B[49m\u001B[43mrun_name\u001B[49m\u001B[38;5;241;43m=\u001B[39;49m\u001B[43mrun_name\u001B[49m\u001B[43m,\u001B[49m\n\u001B[1;32m    137\u001B[0m \u001B[43m\u001B[49m\u001B[43m)\u001B[49m\n",
      "File \u001B[0;32m~/anaconda3/lib/python3.10/site-packages/mlflow/store/tracking/rest_store.py:175\u001B[0m, in \u001B[0;36mRestStore.create_run\u001B[0;34m(self, experiment_id, user_id, start_time, tags, run_name)\u001B[0m\n\u001B[1;32m    165\u001B[0m tag_protos \u001B[38;5;241m=\u001B[39m [tag\u001B[38;5;241m.\u001B[39mto_proto() \u001B[38;5;28;01mfor\u001B[39;00m tag \u001B[38;5;129;01min\u001B[39;00m tags]\n\u001B[1;32m    166\u001B[0m req_body \u001B[38;5;241m=\u001B[39m message_to_json(\n\u001B[1;32m    167\u001B[0m     CreateRun(\n\u001B[1;32m    168\u001B[0m         experiment_id\u001B[38;5;241m=\u001B[39m\u001B[38;5;28mstr\u001B[39m(experiment_id),\n\u001B[0;32m   (...)\u001B[0m\n\u001B[1;32m    173\u001B[0m     )\n\u001B[1;32m    174\u001B[0m )\n\u001B[0;32m--> 175\u001B[0m response_proto \u001B[38;5;241m=\u001B[39m \u001B[38;5;28;43mself\u001B[39;49m\u001B[38;5;241;43m.\u001B[39;49m\u001B[43m_call_endpoint\u001B[49m\u001B[43m(\u001B[49m\u001B[43mCreateRun\u001B[49m\u001B[43m,\u001B[49m\u001B[43m \u001B[49m\u001B[43mreq_body\u001B[49m\u001B[43m)\u001B[49m\n\u001B[1;32m    176\u001B[0m run \u001B[38;5;241m=\u001B[39m Run\u001B[38;5;241m.\u001B[39mfrom_proto(response_proto\u001B[38;5;241m.\u001B[39mrun)\n\u001B[1;32m    177\u001B[0m \u001B[38;5;28;01mreturn\u001B[39;00m run\n",
      "File \u001B[0;32m~/anaconda3/lib/python3.10/site-packages/mlflow/store/tracking/rest_store.py:56\u001B[0m, in \u001B[0;36mRestStore._call_endpoint\u001B[0;34m(self, api, json_body)\u001B[0m\n\u001B[1;32m     54\u001B[0m endpoint, method \u001B[38;5;241m=\u001B[39m _METHOD_TO_INFO[api]\n\u001B[1;32m     55\u001B[0m response_proto \u001B[38;5;241m=\u001B[39m api\u001B[38;5;241m.\u001B[39mResponse()\n\u001B[0;32m---> 56\u001B[0m \u001B[38;5;28;01mreturn\u001B[39;00m \u001B[43mcall_endpoint\u001B[49m\u001B[43m(\u001B[49m\u001B[38;5;28;43mself\u001B[39;49m\u001B[38;5;241;43m.\u001B[39;49m\u001B[43mget_host_creds\u001B[49m\u001B[43m(\u001B[49m\u001B[43m)\u001B[49m\u001B[43m,\u001B[49m\u001B[43m \u001B[49m\u001B[43mendpoint\u001B[49m\u001B[43m,\u001B[49m\u001B[43m \u001B[49m\u001B[43mmethod\u001B[49m\u001B[43m,\u001B[49m\u001B[43m \u001B[49m\u001B[43mjson_body\u001B[49m\u001B[43m,\u001B[49m\u001B[43m \u001B[49m\u001B[43mresponse_proto\u001B[49m\u001B[43m)\u001B[49m\n",
      "File \u001B[0;32m~/anaconda3/lib/python3.10/site-packages/mlflow/utils/rest_utils.py:303\u001B[0m, in \u001B[0;36mcall_endpoint\u001B[0;34m(host_creds, endpoint, method, json_body, response_proto)\u001B[0m\n\u001B[1;32m    299\u001B[0m \u001B[38;5;28;01melse\u001B[39;00m:\n\u001B[1;32m    300\u001B[0m     response \u001B[38;5;241m=\u001B[39m http_request(\n\u001B[1;32m    301\u001B[0m         host_creds\u001B[38;5;241m=\u001B[39mhost_creds, endpoint\u001B[38;5;241m=\u001B[39mendpoint, method\u001B[38;5;241m=\u001B[39mmethod, json\u001B[38;5;241m=\u001B[39mjson_body\n\u001B[1;32m    302\u001B[0m     )\n\u001B[0;32m--> 303\u001B[0m response \u001B[38;5;241m=\u001B[39m \u001B[43mverify_rest_response\u001B[49m\u001B[43m(\u001B[49m\u001B[43mresponse\u001B[49m\u001B[43m,\u001B[49m\u001B[43m \u001B[49m\u001B[43mendpoint\u001B[49m\u001B[43m)\u001B[49m\n\u001B[1;32m    304\u001B[0m js_dict \u001B[38;5;241m=\u001B[39m json\u001B[38;5;241m.\u001B[39mloads(response\u001B[38;5;241m.\u001B[39mtext)\n\u001B[1;32m    305\u001B[0m parse_dict(js_dict\u001B[38;5;241m=\u001B[39mjs_dict, message\u001B[38;5;241m=\u001B[39mresponse_proto)\n",
      "File \u001B[0;32m~/anaconda3/lib/python3.10/site-packages/mlflow/utils/rest_utils.py:233\u001B[0m, in \u001B[0;36mverify_rest_response\u001B[0;34m(response, endpoint)\u001B[0m\n\u001B[1;32m    228\u001B[0m     \u001B[38;5;28;01melse\u001B[39;00m:\n\u001B[1;32m    229\u001B[0m         base_msg \u001B[38;5;241m=\u001B[39m \u001B[38;5;124m\"\u001B[39m\u001B[38;5;124mAPI request to endpoint \u001B[39m\u001B[38;5;132;01m{}\u001B[39;00m\u001B[38;5;124m failed with error code \u001B[39m\u001B[38;5;132;01m{}\u001B[39;00m\u001B[38;5;124m != 200\u001B[39m\u001B[38;5;124m\"\u001B[39m\u001B[38;5;241m.\u001B[39mformat(\n\u001B[1;32m    230\u001B[0m             endpoint,\n\u001B[1;32m    231\u001B[0m             response\u001B[38;5;241m.\u001B[39mstatus_code,\n\u001B[1;32m    232\u001B[0m         )\n\u001B[0;32m--> 233\u001B[0m         \u001B[38;5;28;01mraise\u001B[39;00m MlflowException(\n\u001B[1;32m    234\u001B[0m             \u001B[38;5;124m\"\u001B[39m\u001B[38;5;132;01m{}\u001B[39;00m\u001B[38;5;124m. Response body: \u001B[39m\u001B[38;5;124m'\u001B[39m\u001B[38;5;132;01m{}\u001B[39;00m\u001B[38;5;124m'\u001B[39m\u001B[38;5;124m\"\u001B[39m\u001B[38;5;241m.\u001B[39mformat(base_msg, response\u001B[38;5;241m.\u001B[39mtext),\n\u001B[1;32m    235\u001B[0m             error_code\u001B[38;5;241m=\u001B[39mget_error_code(response\u001B[38;5;241m.\u001B[39mstatus_code),\n\u001B[1;32m    236\u001B[0m         )\n\u001B[1;32m    238\u001B[0m \u001B[38;5;66;03m# Skip validation for endpoints (e.g. DBFS file-download API) which may return a non-JSON\u001B[39;00m\n\u001B[1;32m    239\u001B[0m \u001B[38;5;66;03m# response\u001B[39;00m\n\u001B[1;32m    240\u001B[0m \u001B[38;5;28;01mif\u001B[39;00m endpoint\u001B[38;5;241m.\u001B[39mstartswith(_REST_API_PATH_PREFIX) \u001B[38;5;129;01mand\u001B[39;00m \u001B[38;5;129;01mnot\u001B[39;00m _can_parse_as_json_object(response\u001B[38;5;241m.\u001B[39mtext):\n",
      "\u001B[0;31mMlflowException\u001B[0m: API request to endpoint /api/2.0/mlflow/runs/create failed with error code 403 != 200. Response body: ''"
     ]
    }
   ],
   "source": [
    "with mlflow.start_run():\n",
    "    params = dict(max_depth=20, n_estimators=100, min_samples_leaf=10, random_state=0)\n",
    "    mlflow.log_params(params)\n",
    "\n",
    "    dv = DictVectorizer()\n",
    "    model = RandomForestRegressor(**params, n_jobs=-1)\n",
    "\n",
    "    X_train = dv.fit_transform(dict_train)\n",
    "    model.fit(X_train, y_train)\n",
    "\n",
    "    X_val = dv.transform(dict_val)\n",
    "    y_pred = model.predict(X_val)\n",
    "\n",
    "    # pipeline = make_pipeline(\n",
    "    #     DictVectorizer(),\n",
    "    #     RandomForestRegressor(**params, n_jobs=-1)\n",
    "    # )\n",
    "\n",
    "    # pipeline.fit(dict_train, y_train)\n",
    "    # y_pred = pipeline.predict(dict_val)\n",
    "\n",
    "    # rmse = mean_squared_error(y_pred, y_val, squared=False)\n",
    "    # print(params, rmse)\n",
    "    # mlflow.log_metric('rmse', rmse)\n",
    "    #\n",
    "    # mlflow.sklearn.log_model(pipeline, artifact_path=\"model\")\n",
    "    #\n",
    "    rmse = mean_squared_error(y_pred, y_val, squared=False)\n",
    "    print(params, rmse)\n",
    "    mlflow.log_metric('rmse', rmse)\n",
    "\n",
    "    mlflow.sklearn.log_model(model, artifact_path=\"model\")\n",
    "\n",
    "    with open ('dict_vectorizer.bin', 'wb') as f_out:\n",
    "        pickle.dump(dv, f_out)\n",
    "    mlflow.log_artifact('dict_vectorizer.bin')\n"
   ]
  },
  {
   "cell_type": "code",
   "execution_count": null,
   "id": "c22bbccb",
   "metadata": {
    "ExecuteTime": {
     "start_time": "2023-07-10T23:42:25.379550Z",
     "end_time": "2023-07-10T23:42:25.380338Z"
    }
   },
   "outputs": [],
   "source": [
    "from mlflow.tracking import MlflowClient\n"
   ]
  },
  {
   "cell_type": "code",
   "execution_count": null,
   "id": "8ff6b57e",
   "metadata": {
    "ExecuteTime": {
     "start_time": "2023-07-10T18:57:45.850378Z",
     "end_time": "2023-07-10T18:57:45.855735Z"
    }
   },
   "outputs": [],
   "source": [
    "MLFLOW_TRACKING_URI = 'http://127.0.0.1:5000'\n",
    "RUN_ID = 'de9353b563be4f19870d0f7fb503627d'\n",
    "\n",
    "client = MlflowClient(tracking_uri=MLFLOW_TRACKING_URI)"
   ]
  },
  {
   "cell_type": "code",
   "execution_count": null,
   "id": "524f7008",
   "metadata": {
    "ExecuteTime": {
     "start_time": "2023-07-10T18:59:45.265614Z",
     "end_time": "2023-07-10T18:59:47.296194Z"
    }
   },
   "outputs": [],
   "source": [
    "path = client.download_artifacts(run_id=RUN_ID, path='dict_vectorizer.bin')"
   ]
  },
  {
   "cell_type": "code",
   "execution_count": null,
   "id": "d760f7ed",
   "metadata": {},
   "outputs": [],
   "source": [
    "with open(path, 'rb') as f_out:\n",
    "    dv = pickle.load(f_out)"
   ]
  },
  {
   "cell_type": "code",
   "execution_count": null,
   "id": "c35deb48",
   "metadata": {},
   "outputs": [],
   "source": [
    "dv"
   ]
  },
  {
   "cell_type": "code",
   "execution_count": null,
   "id": "529caf33",
   "metadata": {},
   "outputs": [],
   "source": []
  }
 ],
 "metadata": {
  "kernelspec": {
   "display_name": "Python 3 (ipykernel)",
   "language": "python",
   "name": "python3"
  },
  "language_info": {
   "codemirror_mode": {
    "name": "ipython",
    "version": 3
   },
   "file_extension": ".py",
   "mimetype": "text/x-python",
   "name": "python",
   "nbconvert_exporter": "python",
   "pygments_lexer": "ipython3",
   "version": "3.9.7"
  }
 },
 "nbformat": 4,
 "nbformat_minor": 5
}
