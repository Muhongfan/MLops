{
 "cells": [
  {
   "cell_type": "code",
   "execution_count": 53,
   "id": "b2bd82d7",
   "metadata": {
    "ExecuteTime": {
     "start_time": "2023-05-31T13:42:41.345739Z",
     "end_time": "2023-05-31T13:42:41.348216Z"
    }
   },
   "outputs": [],
   "source": [
    "# !python -V"
   ]
  },
  {
   "cell_type": "code",
   "execution_count": 54,
   "id": "41062d8a",
   "metadata": {
    "ExecuteTime": {
     "start_time": "2023-05-31T13:42:41.350926Z",
     "end_time": "2023-05-31T13:42:41.361433Z"
    }
   },
   "outputs": [],
   "source": [
    "import pandas as pd\n",
    "import pickle\n",
    "from sklearn.feature_extraction import DictVectorizer\n",
    "from sklearn.linear_model import LinearRegression\n",
    "from sklearn.linear_model import Lasso\n",
    "from sklearn.linear_model import Ridge\n",
    "\n",
    "from sklearn.metrics import mean_squared_error"
   ]
  },
  {
   "cell_type": "code",
   "execution_count": 55,
   "id": "4add538c",
   "metadata": {
    "ExecuteTime": {
     "start_time": "2023-05-31T13:42:41.354920Z",
     "end_time": "2023-05-31T13:42:41.361653Z"
    }
   },
   "outputs": [],
   "source": [
    "import seaborn as sns\n",
    "import matplotlib.pyplot as plt\n",
    "import mlflow"
   ]
  },
  {
   "cell_type": "code",
   "execution_count": 55,
   "outputs": [],
   "source": [],
   "metadata": {
    "collapsed": false,
    "ExecuteTime": {
     "start_time": "2023-05-31T13:42:41.358469Z",
     "end_time": "2023-05-31T13:42:41.361726Z"
    }
   }
  },
  {
   "cell_type": "code",
   "execution_count": 56,
   "outputs": [],
   "source": [
    "# mlflow.delete_experiment(0)\n",
    "\n",
    "# mlflow.start_run()\n",
    "# run = mlflow.active_run()\n",
    "# print(\"Active run_id: {}\".format(run.info.run_id))\n",
    "# mlflow.end_run()"
   ],
   "metadata": {
    "collapsed": false,
    "ExecuteTime": {
     "start_time": "2023-05-31T13:42:41.363363Z",
     "end_time": "2023-05-31T13:42:41.365261Z"
    }
   }
  },
  {
   "cell_type": "code",
   "execution_count": 57,
   "id": "1464985f",
   "metadata": {
    "ExecuteTime": {
     "start_time": "2023-05-31T13:42:41.367603Z",
     "end_time": "2023-05-31T13:42:41.377106Z"
    }
   },
   "outputs": [
    {
     "data": {
      "text/plain": "<Experiment: artifact_location='/Users/amberm/PycharmProjects/MLcamp/mlops-zoomcamp/02-experiment-tracking/mlruns/1', creation_time=1685554932838, experiment_id='1', last_update_time=1685554932838, lifecycle_stage='active', name='nyc-taxi-experiment', tags={}>"
     },
     "execution_count": 57,
     "metadata": {},
     "output_type": "execute_result"
    }
   ],
   "source": [
    "\n",
    "mlflow.set_tracking_uri(\"sqlite:///mlflow.db\")\n",
    "mlflow.set_experiment(\"nyc-taxi-experiment\")"
   ]
  },
  {
   "cell_type": "code",
   "execution_count": 58,
   "id": "f9e6479e",
   "metadata": {
    "ExecuteTime": {
     "start_time": "2023-05-31T13:42:41.379019Z",
     "end_time": "2023-05-31T13:42:41.381143Z"
    }
   },
   "outputs": [],
   "source": [
    "def read_dataframe(filename):\n",
    "    df = pd.read_parquet(filename)\n",
    "\n",
    "    df.lpep_dropoff_datetime = pd.to_datetime(df.lpep_dropoff_datetime)\n",
    "    df.lpep_pickup_datetime = pd.to_datetime(df.lpep_pickup_datetime)\n",
    "\n",
    "    df['duration'] = df.lpep_dropoff_datetime - df.lpep_pickup_datetime\n",
    "    df.duration = df.duration.apply(lambda td: td.total_seconds() / 60)\n",
    "\n",
    "    df = df[(df.duration >= 1) & (df.duration <= 60)]\n",
    "\n",
    "    categorical = ['PULocationID', 'DOLocationID']\n",
    "    df[categorical] = df[categorical].astype(str)\n",
    "    \n",
    "    return df"
   ]
  },
  {
   "cell_type": "code",
   "execution_count": 59,
   "id": "8029eba0",
   "metadata": {
    "ExecuteTime": {
     "start_time": "2023-05-31T13:42:41.383643Z",
     "end_time": "2023-05-31T13:42:41.802007Z"
    }
   },
   "outputs": [],
   "source": [
    "df_train = read_dataframe('./data/green_tripdata_2021-01.parquet')\n",
    "df_val = read_dataframe('./data/green_tripdata_2021-02.parquet')"
   ]
  },
  {
   "cell_type": "code",
   "execution_count": 60,
   "id": "f6f2f0eb",
   "metadata": {
    "ExecuteTime": {
     "start_time": "2023-05-31T13:42:41.802701Z",
     "end_time": "2023-05-31T13:42:41.805065Z"
    }
   },
   "outputs": [
    {
     "data": {
      "text/plain": "(73908, 61921)"
     },
     "execution_count": 60,
     "metadata": {},
     "output_type": "execute_result"
    }
   ],
   "source": [
    "len(df_train), len(df_val)"
   ]
  },
  {
   "cell_type": "code",
   "execution_count": 61,
   "id": "951d51ef",
   "metadata": {
    "ExecuteTime": {
     "start_time": "2023-05-31T13:42:41.805899Z",
     "end_time": "2023-05-31T13:42:41.818400Z"
    }
   },
   "outputs": [],
   "source": [
    "df_train['PU_DO'] = df_train['PULocationID'] + '_' + df_train['DOLocationID']\n",
    "df_val['PU_DO'] = df_val['PULocationID'] + '_' + df_val['DOLocationID']"
   ]
  },
  {
   "cell_type": "code",
   "execution_count": 62,
   "id": "c5cbfc25",
   "metadata": {
    "ExecuteTime": {
     "start_time": "2023-05-31T13:42:41.822711Z",
     "end_time": "2023-05-31T13:42:42.174244Z"
    }
   },
   "outputs": [],
   "source": [
    "categorical = ['PU_DO'] #'PULocationID', 'DOLocationID']\n",
    "numerical = ['trip_distance']\n",
    "\n",
    "dv = DictVectorizer()\n",
    "\n",
    "train_dicts = df_train[categorical + numerical].to_dict(orient='records')\n",
    "X_train = dv.fit_transform(train_dicts)\n",
    "\n",
    "val_dicts = df_val[categorical + numerical].to_dict(orient='records')\n",
    "X_val = dv.transform(val_dicts)\n",
    "target = 'duration'\n",
    "y_train = df_train[target].values\n",
    "y_val = df_val[target].values"
   ]
  },
  {
   "cell_type": "code",
   "execution_count": 63,
   "id": "429e2394",
   "metadata": {
    "ExecuteTime": {
     "start_time": "2023-05-31T13:42:42.175065Z",
     "end_time": "2023-05-31T13:42:42.240881Z"
    }
   },
   "outputs": [
    {
     "data": {
      "text/plain": "7.758715210403367"
     },
     "execution_count": 63,
     "metadata": {},
     "output_type": "execute_result"
    }
   ],
   "source": [
    "lr = LinearRegression()\n",
    "lr.fit(X_train, y_train)\n",
    "\n",
    "y_pred = lr.predict(X_val)\n",
    "\n",
    "mean_squared_error(y_val, y_pred, squared=False)"
   ]
  },
  {
   "cell_type": "code",
   "execution_count": 64,
   "id": "22bf6f8b",
   "metadata": {
    "ExecuteTime": {
     "start_time": "2023-05-31T13:42:42.241609Z",
     "end_time": "2023-05-31T13:42:42.245879Z"
    }
   },
   "outputs": [],
   "source": [
    "with open('models/lin_reg.bin', 'wb') as f_out:\n",
    "    pickle.dump((dv, lr), f_out)"
   ]
  },
  {
   "cell_type": "code",
   "execution_count": 65,
   "outputs": [],
   "source": [
    "# lr = Lasso(0.01)\n",
    "# lr.fit(X_train, y_train)\n",
    "#\n",
    "# y_pred = lr.predict(X_val)\n",
    "#\n",
    "# mean_squared_error(y_val, y_pred, squared=False)"
   ],
   "metadata": {
    "collapsed": false,
    "ExecuteTime": {
     "start_time": "2023-05-31T13:42:42.248461Z",
     "end_time": "2023-05-31T13:42:42.250107Z"
    }
   }
  },
  {
   "cell_type": "code",
   "execution_count": 68,
   "id": "a4999b94",
   "metadata": {
    "ExecuteTime": {
     "start_time": "2023-05-31T13:55:48.333233Z",
     "end_time": "2023-05-31T13:55:51.148643Z"
    }
   },
   "outputs": [],
   "source": [
    "with mlflow.start_run():\n",
    "\n",
    "    mlflow.set_tag(\"developer\", \"Amber\")\n",
    "\n",
    "    mlflow.log_param(\"train-data-path\", \"./data/green_tripdata_2021-01.parquet\")\n",
    "    mlflow.log_param(\"valid-data-path\", \"./data/green_tripdata_2021-02.parquet\")\n",
    "\n",
    "    alpha = 0.1\n",
    "    mlflow.log_param(\"alpha\", alpha)\n",
    "\n",
    "    lr = Lasso(alpha)\n",
    "    lr.fit(X_train, y_train)\n",
    "\n",
    "    y_pred = lr.predict(X_val)\n",
    "    rmse = mean_squared_error(y_val, y_pred, squared=False)\n",
    "    mlflow.log_metric(\"rmse\", rmse)\n",
    "\n",
    "    mlflow.log_artifact(local_path=\"models/lin_reg.bin\", artifact_path=\"models_pickle\")"
   ]
  },
  {
   "cell_type": "code",
   "execution_count": null,
   "outputs": [],
   "source": [],
   "metadata": {
    "collapsed": false
   }
  }
 ],
 "metadata": {
  "interpreter": {
   "hash": "0848c9d6c7d415ad6c477ff7ff8e98694d1a4aa96d0deee89244642e6b630036"
  },
  "kernelspec": {
   "display_name": "Python 3 (ipykernel)",
   "language": "python",
   "name": "python3"
  },
  "language_info": {
   "codemirror_mode": {
    "name": "ipython",
    "version": 3
   },
   "file_extension": ".py",
   "mimetype": "text/x-python",
   "name": "python",
   "nbconvert_exporter": "python",
   "pygments_lexer": "ipython3",
   "version": "3.9.12"
  }
 },
 "nbformat": 4,
 "nbformat_minor": 5
}
