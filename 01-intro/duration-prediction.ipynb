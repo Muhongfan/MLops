{
 "cells": [
  {
   "cell_type": "code",
   "execution_count": 79,
   "id": "b2bd82d7",
   "metadata": {
    "ExecuteTime": {
     "start_time": "2023-06-12T12:28:52.131501Z",
     "end_time": "2023-06-12T12:28:52.376569Z"
    }
   },
   "outputs": [
    {
     "name": "stdout",
     "output_type": "stream",
     "text": [
      "Python 3.10.9\r\n"
     ]
    }
   ],
   "source": [
    "!python -V"
   ]
  },
  {
   "cell_type": "code",
   "execution_count": 80,
   "id": "6622f0ef",
   "metadata": {
    "ExecuteTime": {
     "start_time": "2023-06-12T12:28:52.378994Z",
     "end_time": "2023-06-12T12:28:52.380561Z"
    }
   },
   "outputs": [],
   "source": [
    "#!pip install seaborn pandas sklearn"
   ]
  },
  {
   "cell_type": "code",
   "execution_count": 1,
   "id": "41062d8a",
   "metadata": {
    "ExecuteTime": {
     "start_time": "2023-08-12T15:16:38.532288Z",
     "end_time": "2023-08-12T15:16:38.533796Z"
    }
   },
   "outputs": [],
   "source": [
    "import pandas as pd"
   ]
  },
  {
   "cell_type": "code",
   "execution_count": 82,
   "id": "c984c564",
   "metadata": {
    "ExecuteTime": {
     "start_time": "2023-06-12T12:28:52.385746Z",
     "end_time": "2023-06-12T12:28:52.387180Z"
    }
   },
   "outputs": [],
   "source": [
    "import pickle"
   ]
  },
  {
   "cell_type": "code",
   "execution_count": 83,
   "id": "4add538c",
   "metadata": {
    "ExecuteTime": {
     "start_time": "2023-06-12T12:28:52.390582Z",
     "end_time": "2023-06-12T12:28:52.393283Z"
    }
   },
   "outputs": [],
   "source": [
    "import seaborn as sns\n",
    "import matplotlib.pyplot as plt"
   ]
  },
  {
   "cell_type": "code",
   "execution_count": 84,
   "id": "8b135c2b",
   "metadata": {
    "ExecuteTime": {
     "start_time": "2023-06-12T12:28:52.395498Z",
     "end_time": "2023-06-12T12:28:52.396854Z"
    }
   },
   "outputs": [],
   "source": [
    "from sklearn.feature_extraction import DictVectorizer\n",
    "from sklearn.linear_model import LinearRegression\n",
    "from sklearn.linear_model import Lasso\n",
    "from sklearn.linear_model import Ridge\n",
    "\n",
    "from sklearn.metrics import mean_squared_error"
   ]
  },
  {
   "cell_type": "code",
   "execution_count": 2,
   "id": "8e013caf",
   "metadata": {
    "ExecuteTime": {
     "start_time": "2023-06-12T12:28:52.404565Z",
     "end_time": "2023-06-12T12:28:52.506402Z"
    }
   },
   "outputs": [
    {
     "ename": "FileNotFoundError",
     "evalue": "[Errno 2] No such file or directory: './data/green_tripdata_2021-01.parquet'",
     "output_type": "error",
     "traceback": [
      "\u001B[0;31m---------------------------------------------------------------------------\u001B[0m",
      "\u001B[0;31mFileNotFoundError\u001B[0m                         Traceback (most recent call last)",
      "Cell \u001B[0;32mIn[2], line 1\u001B[0m\n\u001B[0;32m----> 1\u001B[0m df \u001B[38;5;241m=\u001B[39m \u001B[43mpd\u001B[49m\u001B[38;5;241;43m.\u001B[39;49m\u001B[43mread_parquet\u001B[49m\u001B[43m(\u001B[49m\u001B[38;5;124;43m'\u001B[39;49m\u001B[38;5;124;43m./data/green_tripdata_2021-01.parquet\u001B[39;49m\u001B[38;5;124;43m'\u001B[39;49m\u001B[43m)\u001B[49m\n",
      "File \u001B[0;32m~/anaconda3/lib/python3.9/site-packages/pandas/io/parquet.py:503\u001B[0m, in \u001B[0;36mread_parquet\u001B[0;34m(path, engine, columns, storage_options, use_nullable_dtypes, **kwargs)\u001B[0m\n\u001B[1;32m    456\u001B[0m \u001B[38;5;250m\u001B[39m\u001B[38;5;124;03m\"\"\"\u001B[39;00m\n\u001B[1;32m    457\u001B[0m \u001B[38;5;124;03mLoad a parquet object from the file path, returning a DataFrame.\u001B[39;00m\n\u001B[1;32m    458\u001B[0m \n\u001B[0;32m   (...)\u001B[0m\n\u001B[1;32m    499\u001B[0m \u001B[38;5;124;03mDataFrame\u001B[39;00m\n\u001B[1;32m    500\u001B[0m \u001B[38;5;124;03m\"\"\"\u001B[39;00m\n\u001B[1;32m    501\u001B[0m impl \u001B[38;5;241m=\u001B[39m get_engine(engine)\n\u001B[0;32m--> 503\u001B[0m \u001B[38;5;28;01mreturn\u001B[39;00m \u001B[43mimpl\u001B[49m\u001B[38;5;241;43m.\u001B[39;49m\u001B[43mread\u001B[49m\u001B[43m(\u001B[49m\n\u001B[1;32m    504\u001B[0m \u001B[43m    \u001B[49m\u001B[43mpath\u001B[49m\u001B[43m,\u001B[49m\n\u001B[1;32m    505\u001B[0m \u001B[43m    \u001B[49m\u001B[43mcolumns\u001B[49m\u001B[38;5;241;43m=\u001B[39;49m\u001B[43mcolumns\u001B[49m\u001B[43m,\u001B[49m\n\u001B[1;32m    506\u001B[0m \u001B[43m    \u001B[49m\u001B[43mstorage_options\u001B[49m\u001B[38;5;241;43m=\u001B[39;49m\u001B[43mstorage_options\u001B[49m\u001B[43m,\u001B[49m\n\u001B[1;32m    507\u001B[0m \u001B[43m    \u001B[49m\u001B[43muse_nullable_dtypes\u001B[49m\u001B[38;5;241;43m=\u001B[39;49m\u001B[43muse_nullable_dtypes\u001B[49m\u001B[43m,\u001B[49m\n\u001B[1;32m    508\u001B[0m \u001B[43m    \u001B[49m\u001B[38;5;241;43m*\u001B[39;49m\u001B[38;5;241;43m*\u001B[39;49m\u001B[43mkwargs\u001B[49m\u001B[43m,\u001B[49m\n\u001B[1;32m    509\u001B[0m \u001B[43m\u001B[49m\u001B[43m)\u001B[49m\n",
      "File \u001B[0;32m~/anaconda3/lib/python3.9/site-packages/pandas/io/parquet.py:244\u001B[0m, in \u001B[0;36mPyArrowImpl.read\u001B[0;34m(self, path, columns, use_nullable_dtypes, storage_options, **kwargs)\u001B[0m\n\u001B[1;32m    241\u001B[0m \u001B[38;5;28;01mif\u001B[39;00m manager \u001B[38;5;241m==\u001B[39m \u001B[38;5;124m\"\u001B[39m\u001B[38;5;124marray\u001B[39m\u001B[38;5;124m\"\u001B[39m:\n\u001B[1;32m    242\u001B[0m     to_pandas_kwargs[\u001B[38;5;124m\"\u001B[39m\u001B[38;5;124msplit_blocks\u001B[39m\u001B[38;5;124m\"\u001B[39m] \u001B[38;5;241m=\u001B[39m \u001B[38;5;28;01mTrue\u001B[39;00m  \u001B[38;5;66;03m# type: ignore[assignment]\u001B[39;00m\n\u001B[0;32m--> 244\u001B[0m path_or_handle, handles, kwargs[\u001B[38;5;124m\"\u001B[39m\u001B[38;5;124mfilesystem\u001B[39m\u001B[38;5;124m\"\u001B[39m] \u001B[38;5;241m=\u001B[39m \u001B[43m_get_path_or_handle\u001B[49m\u001B[43m(\u001B[49m\n\u001B[1;32m    245\u001B[0m \u001B[43m    \u001B[49m\u001B[43mpath\u001B[49m\u001B[43m,\u001B[49m\n\u001B[1;32m    246\u001B[0m \u001B[43m    \u001B[49m\u001B[43mkwargs\u001B[49m\u001B[38;5;241;43m.\u001B[39;49m\u001B[43mpop\u001B[49m\u001B[43m(\u001B[49m\u001B[38;5;124;43m\"\u001B[39;49m\u001B[38;5;124;43mfilesystem\u001B[39;49m\u001B[38;5;124;43m\"\u001B[39;49m\u001B[43m,\u001B[49m\u001B[43m \u001B[49m\u001B[38;5;28;43;01mNone\u001B[39;49;00m\u001B[43m)\u001B[49m\u001B[43m,\u001B[49m\n\u001B[1;32m    247\u001B[0m \u001B[43m    \u001B[49m\u001B[43mstorage_options\u001B[49m\u001B[38;5;241;43m=\u001B[39;49m\u001B[43mstorage_options\u001B[49m\u001B[43m,\u001B[49m\n\u001B[1;32m    248\u001B[0m \u001B[43m    \u001B[49m\u001B[43mmode\u001B[49m\u001B[38;5;241;43m=\u001B[39;49m\u001B[38;5;124;43m\"\u001B[39;49m\u001B[38;5;124;43mrb\u001B[39;49m\u001B[38;5;124;43m\"\u001B[39;49m\u001B[43m,\u001B[49m\n\u001B[1;32m    249\u001B[0m \u001B[43m\u001B[49m\u001B[43m)\u001B[49m\n\u001B[1;32m    250\u001B[0m \u001B[38;5;28;01mtry\u001B[39;00m:\n\u001B[1;32m    251\u001B[0m     result \u001B[38;5;241m=\u001B[39m \u001B[38;5;28mself\u001B[39m\u001B[38;5;241m.\u001B[39mapi\u001B[38;5;241m.\u001B[39mparquet\u001B[38;5;241m.\u001B[39mread_table(\n\u001B[1;32m    252\u001B[0m         path_or_handle, columns\u001B[38;5;241m=\u001B[39mcolumns, \u001B[38;5;241m*\u001B[39m\u001B[38;5;241m*\u001B[39mkwargs\n\u001B[1;32m    253\u001B[0m     )\u001B[38;5;241m.\u001B[39mto_pandas(\u001B[38;5;241m*\u001B[39m\u001B[38;5;241m*\u001B[39mto_pandas_kwargs)\n",
      "File \u001B[0;32m~/anaconda3/lib/python3.9/site-packages/pandas/io/parquet.py:102\u001B[0m, in \u001B[0;36m_get_path_or_handle\u001B[0;34m(path, fs, storage_options, mode, is_dir)\u001B[0m\n\u001B[1;32m     92\u001B[0m handles \u001B[38;5;241m=\u001B[39m \u001B[38;5;28;01mNone\u001B[39;00m\n\u001B[1;32m     93\u001B[0m \u001B[38;5;28;01mif\u001B[39;00m (\n\u001B[1;32m     94\u001B[0m     \u001B[38;5;129;01mnot\u001B[39;00m fs\n\u001B[1;32m     95\u001B[0m     \u001B[38;5;129;01mand\u001B[39;00m \u001B[38;5;129;01mnot\u001B[39;00m is_dir\n\u001B[0;32m   (...)\u001B[0m\n\u001B[1;32m    100\u001B[0m     \u001B[38;5;66;03m# fsspec resources can also point to directories\u001B[39;00m\n\u001B[1;32m    101\u001B[0m     \u001B[38;5;66;03m# this branch is used for example when reading from non-fsspec URLs\u001B[39;00m\n\u001B[0;32m--> 102\u001B[0m     handles \u001B[38;5;241m=\u001B[39m \u001B[43mget_handle\u001B[49m\u001B[43m(\u001B[49m\n\u001B[1;32m    103\u001B[0m \u001B[43m        \u001B[49m\u001B[43mpath_or_handle\u001B[49m\u001B[43m,\u001B[49m\u001B[43m \u001B[49m\u001B[43mmode\u001B[49m\u001B[43m,\u001B[49m\u001B[43m \u001B[49m\u001B[43mis_text\u001B[49m\u001B[38;5;241;43m=\u001B[39;49m\u001B[38;5;28;43;01mFalse\u001B[39;49;00m\u001B[43m,\u001B[49m\u001B[43m \u001B[49m\u001B[43mstorage_options\u001B[49m\u001B[38;5;241;43m=\u001B[39;49m\u001B[43mstorage_options\u001B[49m\n\u001B[1;32m    104\u001B[0m \u001B[43m    \u001B[49m\u001B[43m)\u001B[49m\n\u001B[1;32m    105\u001B[0m     fs \u001B[38;5;241m=\u001B[39m \u001B[38;5;28;01mNone\u001B[39;00m\n\u001B[1;32m    106\u001B[0m     path_or_handle \u001B[38;5;241m=\u001B[39m handles\u001B[38;5;241m.\u001B[39mhandle\n",
      "File \u001B[0;32m~/anaconda3/lib/python3.9/site-packages/pandas/io/common.py:865\u001B[0m, in \u001B[0;36mget_handle\u001B[0;34m(path_or_buf, mode, encoding, compression, memory_map, is_text, errors, storage_options)\u001B[0m\n\u001B[1;32m    856\u001B[0m         handle \u001B[38;5;241m=\u001B[39m \u001B[38;5;28mopen\u001B[39m(\n\u001B[1;32m    857\u001B[0m             handle,\n\u001B[1;32m    858\u001B[0m             ioargs\u001B[38;5;241m.\u001B[39mmode,\n\u001B[0;32m   (...)\u001B[0m\n\u001B[1;32m    861\u001B[0m             newline\u001B[38;5;241m=\u001B[39m\u001B[38;5;124m\"\u001B[39m\u001B[38;5;124m\"\u001B[39m,\n\u001B[1;32m    862\u001B[0m         )\n\u001B[1;32m    863\u001B[0m     \u001B[38;5;28;01melse\u001B[39;00m:\n\u001B[1;32m    864\u001B[0m         \u001B[38;5;66;03m# Binary mode\u001B[39;00m\n\u001B[0;32m--> 865\u001B[0m         handle \u001B[38;5;241m=\u001B[39m \u001B[38;5;28;43mopen\u001B[39;49m\u001B[43m(\u001B[49m\u001B[43mhandle\u001B[49m\u001B[43m,\u001B[49m\u001B[43m \u001B[49m\u001B[43mioargs\u001B[49m\u001B[38;5;241;43m.\u001B[39;49m\u001B[43mmode\u001B[49m\u001B[43m)\u001B[49m\n\u001B[1;32m    866\u001B[0m     handles\u001B[38;5;241m.\u001B[39mappend(handle)\n\u001B[1;32m    868\u001B[0m \u001B[38;5;66;03m# Convert BytesIO or file objects passed with an encoding\u001B[39;00m\n",
      "\u001B[0;31mFileNotFoundError\u001B[0m: [Errno 2] No such file or directory: './data/green_tripdata_2021-01.parquet'"
     ]
    }
   ],
   "source": [
    "df = pd.read_parquet('./data/green_tripdata_2021-01.parquet')\n"
   ]
  },
  {
   "cell_type": "code",
   "execution_count": 86,
   "id": "538cc9f2",
   "metadata": {
    "ExecuteTime": {
     "start_time": "2023-06-12T12:28:52.515181Z",
     "end_time": "2023-06-12T12:28:52.536217Z"
    }
   },
   "outputs": [
    {
     "data": {
      "text/plain": "       VendorID lpep_pickup_datetime lpep_dropoff_datetime store_and_fwd_flag  \\\n0             2  2021-01-01 00:15:56   2021-01-01 00:19:52                  N   \n1             2  2021-01-01 00:25:59   2021-01-01 00:34:44                  N   \n2             2  2021-01-01 00:45:57   2021-01-01 00:51:55                  N   \n3             2  2020-12-31 23:57:51   2021-01-01 00:04:56                  N   \n4             2  2021-01-01 00:16:36   2021-01-01 00:16:40                  N   \n...         ...                  ...                   ...                ...   \n76513         2  2021-01-31 21:38:00   2021-01-31 22:16:00               None   \n76514         2  2021-01-31 22:43:00   2021-01-31 23:21:00               None   \n76515         2  2021-01-31 22:16:00   2021-01-31 22:27:00               None   \n76516         2  2021-01-31 23:10:00   2021-01-31 23:37:00               None   \n76517         2  2021-01-31 23:25:00   2021-01-31 23:35:00               None   \n\n       RatecodeID  PULocationID  DOLocationID  passenger_count  trip_distance  \\\n0             1.0            43           151              1.0           1.01   \n1             1.0           166           239              1.0           2.53   \n2             1.0            41            42              1.0           1.12   \n3             1.0           168            75              1.0           1.99   \n4             2.0           265           265              3.0           0.00   \n...           ...           ...           ...              ...            ...   \n76513         NaN            81            90              NaN          17.63   \n76514         NaN            35           213              NaN          18.36   \n76515         NaN            74            69              NaN           2.50   \n76516         NaN           168           215              NaN          14.48   \n76517         NaN           119           244              NaN           1.81   \n\n       fare_amount  extra  mta_tax  tip_amount  tolls_amount ehail_fee  \\\n0             5.50   0.50      0.5        0.00          0.00      None   \n1            10.00   0.50      0.5        2.81          0.00      None   \n2             6.00   0.50      0.5        1.00          0.00      None   \n3             8.00   0.50      0.5        0.00          0.00      None   \n4           -52.00   0.00     -0.5        0.00          0.00      None   \n...            ...    ...      ...         ...           ...       ...   \n76513        56.23   2.75      0.0        0.00          6.12      None   \n76514        46.66   0.00      0.0       12.20          6.12      None   \n76515        18.95   2.75      0.0        0.00          0.00      None   \n76516        48.87   2.75      0.0        0.00          6.12      None   \n76517        15.45   2.75      0.0        0.00          0.00      None   \n\n       improvement_surcharge  total_amount  payment_type  trip_type  \\\n0                        0.3          6.80           2.0        1.0   \n1                        0.3         16.86           1.0        1.0   \n2                        0.3          8.30           1.0        1.0   \n3                        0.3          9.30           2.0        1.0   \n4                       -0.3        -52.80           3.0        1.0   \n...                      ...           ...           ...        ...   \n76513                    0.3         65.40           NaN        NaN   \n76514                    0.3         65.28           NaN        NaN   \n76515                    0.3         22.00           NaN        NaN   \n76516                    0.3         58.04           NaN        NaN   \n76517                    0.3         18.50           NaN        NaN   \n\n       congestion_surcharge  \n0                      0.00  \n1                      2.75  \n2                      0.00  \n3                      0.00  \n4                      0.00  \n...                     ...  \n76513                   NaN  \n76514                   NaN  \n76515                   NaN  \n76516                   NaN  \n76517                   NaN  \n\n[76518 rows x 20 columns]",
      "text/html": "<div>\n<style scoped>\n    .dataframe tbody tr th:only-of-type {\n        vertical-align: middle;\n    }\n\n    .dataframe tbody tr th {\n        vertical-align: top;\n    }\n\n    .dataframe thead th {\n        text-align: right;\n    }\n</style>\n<table border=\"1\" class=\"dataframe\">\n  <thead>\n    <tr style=\"text-align: right;\">\n      <th></th>\n      <th>VendorID</th>\n      <th>lpep_pickup_datetime</th>\n      <th>lpep_dropoff_datetime</th>\n      <th>store_and_fwd_flag</th>\n      <th>RatecodeID</th>\n      <th>PULocationID</th>\n      <th>DOLocationID</th>\n      <th>passenger_count</th>\n      <th>trip_distance</th>\n      <th>fare_amount</th>\n      <th>extra</th>\n      <th>mta_tax</th>\n      <th>tip_amount</th>\n      <th>tolls_amount</th>\n      <th>ehail_fee</th>\n      <th>improvement_surcharge</th>\n      <th>total_amount</th>\n      <th>payment_type</th>\n      <th>trip_type</th>\n      <th>congestion_surcharge</th>\n    </tr>\n  </thead>\n  <tbody>\n    <tr>\n      <th>0</th>\n      <td>2</td>\n      <td>2021-01-01 00:15:56</td>\n      <td>2021-01-01 00:19:52</td>\n      <td>N</td>\n      <td>1.0</td>\n      <td>43</td>\n      <td>151</td>\n      <td>1.0</td>\n      <td>1.01</td>\n      <td>5.50</td>\n      <td>0.50</td>\n      <td>0.5</td>\n      <td>0.00</td>\n      <td>0.00</td>\n      <td>None</td>\n      <td>0.3</td>\n      <td>6.80</td>\n      <td>2.0</td>\n      <td>1.0</td>\n      <td>0.00</td>\n    </tr>\n    <tr>\n      <th>1</th>\n      <td>2</td>\n      <td>2021-01-01 00:25:59</td>\n      <td>2021-01-01 00:34:44</td>\n      <td>N</td>\n      <td>1.0</td>\n      <td>166</td>\n      <td>239</td>\n      <td>1.0</td>\n      <td>2.53</td>\n      <td>10.00</td>\n      <td>0.50</td>\n      <td>0.5</td>\n      <td>2.81</td>\n      <td>0.00</td>\n      <td>None</td>\n      <td>0.3</td>\n      <td>16.86</td>\n      <td>1.0</td>\n      <td>1.0</td>\n      <td>2.75</td>\n    </tr>\n    <tr>\n      <th>2</th>\n      <td>2</td>\n      <td>2021-01-01 00:45:57</td>\n      <td>2021-01-01 00:51:55</td>\n      <td>N</td>\n      <td>1.0</td>\n      <td>41</td>\n      <td>42</td>\n      <td>1.0</td>\n      <td>1.12</td>\n      <td>6.00</td>\n      <td>0.50</td>\n      <td>0.5</td>\n      <td>1.00</td>\n      <td>0.00</td>\n      <td>None</td>\n      <td>0.3</td>\n      <td>8.30</td>\n      <td>1.0</td>\n      <td>1.0</td>\n      <td>0.00</td>\n    </tr>\n    <tr>\n      <th>3</th>\n      <td>2</td>\n      <td>2020-12-31 23:57:51</td>\n      <td>2021-01-01 00:04:56</td>\n      <td>N</td>\n      <td>1.0</td>\n      <td>168</td>\n      <td>75</td>\n      <td>1.0</td>\n      <td>1.99</td>\n      <td>8.00</td>\n      <td>0.50</td>\n      <td>0.5</td>\n      <td>0.00</td>\n      <td>0.00</td>\n      <td>None</td>\n      <td>0.3</td>\n      <td>9.30</td>\n      <td>2.0</td>\n      <td>1.0</td>\n      <td>0.00</td>\n    </tr>\n    <tr>\n      <th>4</th>\n      <td>2</td>\n      <td>2021-01-01 00:16:36</td>\n      <td>2021-01-01 00:16:40</td>\n      <td>N</td>\n      <td>2.0</td>\n      <td>265</td>\n      <td>265</td>\n      <td>3.0</td>\n      <td>0.00</td>\n      <td>-52.00</td>\n      <td>0.00</td>\n      <td>-0.5</td>\n      <td>0.00</td>\n      <td>0.00</td>\n      <td>None</td>\n      <td>-0.3</td>\n      <td>-52.80</td>\n      <td>3.0</td>\n      <td>1.0</td>\n      <td>0.00</td>\n    </tr>\n    <tr>\n      <th>...</th>\n      <td>...</td>\n      <td>...</td>\n      <td>...</td>\n      <td>...</td>\n      <td>...</td>\n      <td>...</td>\n      <td>...</td>\n      <td>...</td>\n      <td>...</td>\n      <td>...</td>\n      <td>...</td>\n      <td>...</td>\n      <td>...</td>\n      <td>...</td>\n      <td>...</td>\n      <td>...</td>\n      <td>...</td>\n      <td>...</td>\n      <td>...</td>\n      <td>...</td>\n    </tr>\n    <tr>\n      <th>76513</th>\n      <td>2</td>\n      <td>2021-01-31 21:38:00</td>\n      <td>2021-01-31 22:16:00</td>\n      <td>None</td>\n      <td>NaN</td>\n      <td>81</td>\n      <td>90</td>\n      <td>NaN</td>\n      <td>17.63</td>\n      <td>56.23</td>\n      <td>2.75</td>\n      <td>0.0</td>\n      <td>0.00</td>\n      <td>6.12</td>\n      <td>None</td>\n      <td>0.3</td>\n      <td>65.40</td>\n      <td>NaN</td>\n      <td>NaN</td>\n      <td>NaN</td>\n    </tr>\n    <tr>\n      <th>76514</th>\n      <td>2</td>\n      <td>2021-01-31 22:43:00</td>\n      <td>2021-01-31 23:21:00</td>\n      <td>None</td>\n      <td>NaN</td>\n      <td>35</td>\n      <td>213</td>\n      <td>NaN</td>\n      <td>18.36</td>\n      <td>46.66</td>\n      <td>0.00</td>\n      <td>0.0</td>\n      <td>12.20</td>\n      <td>6.12</td>\n      <td>None</td>\n      <td>0.3</td>\n      <td>65.28</td>\n      <td>NaN</td>\n      <td>NaN</td>\n      <td>NaN</td>\n    </tr>\n    <tr>\n      <th>76515</th>\n      <td>2</td>\n      <td>2021-01-31 22:16:00</td>\n      <td>2021-01-31 22:27:00</td>\n      <td>None</td>\n      <td>NaN</td>\n      <td>74</td>\n      <td>69</td>\n      <td>NaN</td>\n      <td>2.50</td>\n      <td>18.95</td>\n      <td>2.75</td>\n      <td>0.0</td>\n      <td>0.00</td>\n      <td>0.00</td>\n      <td>None</td>\n      <td>0.3</td>\n      <td>22.00</td>\n      <td>NaN</td>\n      <td>NaN</td>\n      <td>NaN</td>\n    </tr>\n    <tr>\n      <th>76516</th>\n      <td>2</td>\n      <td>2021-01-31 23:10:00</td>\n      <td>2021-01-31 23:37:00</td>\n      <td>None</td>\n      <td>NaN</td>\n      <td>168</td>\n      <td>215</td>\n      <td>NaN</td>\n      <td>14.48</td>\n      <td>48.87</td>\n      <td>2.75</td>\n      <td>0.0</td>\n      <td>0.00</td>\n      <td>6.12</td>\n      <td>None</td>\n      <td>0.3</td>\n      <td>58.04</td>\n      <td>NaN</td>\n      <td>NaN</td>\n      <td>NaN</td>\n    </tr>\n    <tr>\n      <th>76517</th>\n      <td>2</td>\n      <td>2021-01-31 23:25:00</td>\n      <td>2021-01-31 23:35:00</td>\n      <td>None</td>\n      <td>NaN</td>\n      <td>119</td>\n      <td>244</td>\n      <td>NaN</td>\n      <td>1.81</td>\n      <td>15.45</td>\n      <td>2.75</td>\n      <td>0.0</td>\n      <td>0.00</td>\n      <td>0.00</td>\n      <td>None</td>\n      <td>0.3</td>\n      <td>18.50</td>\n      <td>NaN</td>\n      <td>NaN</td>\n      <td>NaN</td>\n    </tr>\n  </tbody>\n</table>\n<p>76518 rows × 20 columns</p>\n</div>"
     },
     "execution_count": 86,
     "metadata": {},
     "output_type": "execute_result"
    }
   ],
   "source": [
    "df"
   ]
  },
  {
   "cell_type": "code",
   "execution_count": 86,
   "id": "2c7f28cf",
   "metadata": {
    "ExecuteTime": {
     "start_time": "2023-06-12T12:28:52.532672Z",
     "end_time": "2023-06-12T12:28:52.536425Z"
    }
   },
   "outputs": [],
   "source": []
  },
  {
   "cell_type": "code",
   "execution_count": 87,
   "id": "55371fbc",
   "metadata": {
    "ExecuteTime": {
     "start_time": "2023-06-12T12:28:52.544273Z",
     "end_time": "2023-06-12T12:28:52.553505Z"
    }
   },
   "outputs": [],
   "source": [
    "# Transfor str to datetime\n",
    "df.lpep_dropoff_datetime = pd.to_datetime(df.lpep_dropoff_datetime) \n",
    "df.lpep_pickup_datetime = pd.to_datetime(df.lpep_pickup_datetime)"
   ]
  },
  {
   "cell_type": "code",
   "execution_count": 88,
   "id": "af7f5e76",
   "metadata": {
    "ExecuteTime": {
     "start_time": "2023-06-12T12:28:52.555005Z",
     "end_time": "2023-06-12T12:28:52.556479Z"
    }
   },
   "outputs": [],
   "source": [
    "# SettingWithCopyWarning - View VS Copy\n",
    "# https://www.dataquest.io/blog/settingwithcopywarning/"
   ]
  },
  {
   "cell_type": "code",
   "execution_count": 89,
   "id": "a58539ca",
   "metadata": {
    "ExecuteTime": {
     "start_time": "2023-06-12T12:28:52.563375Z",
     "end_time": "2023-06-12T12:28:52.609772Z"
    }
   },
   "outputs": [],
   "source": [
    "df['duration'] = df.lpep_dropoff_datetime - df.lpep_pickup_datetime\n",
    "#df"
   ]
  },
  {
   "cell_type": "code",
   "execution_count": 90,
   "id": "6b3db0cb",
   "metadata": {
    "ExecuteTime": {
     "start_time": "2023-06-12T12:28:52.578707Z",
     "end_time": "2023-06-12T12:28:53.076668Z"
    }
   },
   "outputs": [],
   "source": [
    "df.duration = df.duration.apply(lambda td: td.total_seconds() / 60)\n",
    "#df"
   ]
  },
  {
   "cell_type": "code",
   "execution_count": 91,
   "id": "6605f732",
   "metadata": {
    "ExecuteTime": {
     "start_time": "2023-06-12T12:28:53.080752Z",
     "end_time": "2023-06-12T12:28:53.084086Z"
    }
   },
   "outputs": [],
   "source": [
    "# df = df[df.trip_type == 2 ]\n",
    "# df"
   ]
  },
  {
   "cell_type": "code",
   "execution_count": 92,
   "id": "cae1d3c5",
   "metadata": {
    "ExecuteTime": {
     "start_time": "2023-06-12T12:28:53.084324Z",
     "end_time": "2023-06-12T12:28:53.086627Z"
    }
   },
   "outputs": [],
   "source": [
    "#df.duration.describe(percentiles = [0.95, 0.98, 0.99])\n",
    "# count    1238.000000\n",
    "# mean       18.305493\n",
    "# std       108.364382\n",
    "# min         0.000000\n",
    "# 50%         1.666667\n",
    "# 95%        35.604167\n",
    "# 98%        59.339333\n",
    "# 99%       149.837833\n",
    "# max      1416.100000\n",
    "# Name: duration, dtype: float64"
   ]
  },
  {
   "cell_type": "code",
   "execution_count": 93,
   "id": "a7fdb749",
   "metadata": {
    "ExecuteTime": {
     "start_time": "2023-06-12T12:28:53.087777Z",
     "end_time": "2023-06-12T12:28:53.089686Z"
    }
   },
   "outputs": [],
   "source": [
    "#((df.duration >= 1) & (df.duration <= 60)).mean()\n",
    "# 0.5169628432956381\n"
   ]
  },
  {
   "cell_type": "code",
   "execution_count": 94,
   "id": "b936b38c",
   "metadata": {
    "ExecuteTime": {
     "start_time": "2023-06-12T12:28:53.091517Z",
     "end_time": "2023-06-12T12:28:53.132252Z"
    }
   },
   "outputs": [],
   "source": [
    "df = df[(df.duration >= 1) & (df.duration <= 60)]\n"
   ]
  },
  {
   "cell_type": "code",
   "execution_count": 95,
   "id": "64ac53ff",
   "metadata": {
    "ExecuteTime": {
     "start_time": "2023-06-12T12:28:53.133882Z",
     "end_time": "2023-06-12T12:28:53.135412Z"
    }
   },
   "outputs": [],
   "source": [
    "categorical = ['PULocationID', 'DOLocationID']\n",
    "numerical = ['trip_distance']"
   ]
  },
  {
   "cell_type": "code",
   "execution_count": 96,
   "id": "1e2e11f6",
   "metadata": {
    "ExecuteTime": {
     "start_time": "2023-06-12T12:28:53.136483Z",
     "end_time": "2023-06-12T12:28:53.138174Z"
    }
   },
   "outputs": [],
   "source": [
    "#td = df.duration.iloc[0]"
   ]
  },
  {
   "cell_type": "code",
   "execution_count": 97,
   "id": "03739ba2",
   "metadata": {
    "ExecuteTime": {
     "start_time": "2023-06-12T12:28:53.139003Z",
     "end_time": "2023-06-12T12:28:53.140483Z"
    }
   },
   "outputs": [],
   "source": [
    "#td.total_seconds()/60"
   ]
  },
  {
   "cell_type": "code",
   "execution_count": 98,
   "id": "696a3e1b",
   "metadata": {
    "ExecuteTime": {
     "start_time": "2023-06-12T12:28:53.142522Z",
     "end_time": "2023-06-12T12:28:53.184474Z"
    }
   },
   "outputs": [
    {
     "name": "stderr",
     "output_type": "stream",
     "text": [
      "/var/folders/0m/hd5nyhdj19b3dcxl72fwby3c0000gn/T/ipykernel_36333/1462064050.py:2: SettingWithCopyWarning: \n",
      "A value is trying to be set on a copy of a slice from a DataFrame.\n",
      "Try using .loc[row_indexer,col_indexer] = value instead\n",
      "\n",
      "See the caveats in the documentation: https://pandas.pydata.org/pandas-docs/stable/user_guide/indexing.html#returning-a-view-versus-a-copy\n",
      "  df[categorical] = df[categorical].astype(str)\n"
     ]
    }
   ],
   "source": [
    "# One-hot - int to object\n",
    "df[categorical] = df[categorical].astype(str)"
   ]
  },
  {
   "cell_type": "code",
   "execution_count": 99,
   "id": "b0401309",
   "metadata": {
    "ExecuteTime": {
     "start_time": "2023-06-12T12:28:53.185877Z",
     "end_time": "2023-06-12T12:28:53.187640Z"
    }
   },
   "outputs": [],
   "source": [
    "#df[categorical + numerical].iloc[:10].to_dict(orient='records')\n",
    "# [{'PULocationID': 74, 'DOLocationID': 247, 'trip_distance': 3.64},\n",
    "#  {'PULocationID': 74, 'DOLocationID': 94, 'trip_distance': 5.82},\n",
    "#  {'PULocationID': 136, 'DOLocationID': 241, 'trip_distance': 0.57},\n",
    "#  {'PULocationID': 247, 'DOLocationID': 75, 'trip_distance': 3.43},\n",
    "#  {'PULocationID': 7, 'DOLocationID': 7, 'trip_distance': 0.65},\n",
    "#  {'PULocationID': 152, 'DOLocationID': 152, 'trip_distance': 0.1},\n",
    "#  {'PULocationID': 159, 'DOLocationID': 159, 'trip_distance': 0.27},\n",
    "#  {'PULocationID': 116, 'DOLocationID': 247, 'trip_distance': 1.21},\n",
    "#  {'PULocationID': 195, 'DOLocationID': 106, 'trip_distance': 0.49},\n",
    "#  {'PULocationID': 74, 'DOLocationID': 236, 'trip_distance': 2.12}]"
   ]
  },
  {
   "cell_type": "code",
   "execution_count": 100,
   "id": "0d94cc81",
   "metadata": {
    "ExecuteTime": {
     "start_time": "2023-06-12T12:28:53.189704Z",
     "end_time": "2023-06-12T12:28:53.518768Z"
    }
   },
   "outputs": [],
   "source": [
    "train_dicts = df[categorical + numerical].to_dict(orient='records')\n",
    "\n",
    "dv = DictVectorizer()\n",
    "X_train = dv.fit_transform(train_dicts)\n",
    "target = 'duration'\n",
    "y_train = df[target].values"
   ]
  },
  {
   "cell_type": "code",
   "execution_count": 101,
   "id": "a2dad88e",
   "metadata": {
    "ExecuteTime": {
     "start_time": "2023-06-12T12:28:53.519638Z",
     "end_time": "2023-06-12T12:28:53.521177Z"
    }
   },
   "outputs": [],
   "source": [
    "# LinearRegression model"
   ]
  },
  {
   "cell_type": "code",
   "execution_count": 102,
   "id": "116ff0cc",
   "metadata": {
    "ExecuteTime": {
     "start_time": "2023-06-12T12:28:53.522634Z",
     "end_time": "2023-06-12T12:28:53.577211Z"
    }
   },
   "outputs": [
    {
     "data": {
      "text/plain": "LinearRegression()",
      "text/html": "<style>#sk-container-id-3 {color: black;background-color: white;}#sk-container-id-3 pre{padding: 0;}#sk-container-id-3 div.sk-toggleable {background-color: white;}#sk-container-id-3 label.sk-toggleable__label {cursor: pointer;display: block;width: 100%;margin-bottom: 0;padding: 0.3em;box-sizing: border-box;text-align: center;}#sk-container-id-3 label.sk-toggleable__label-arrow:before {content: \"▸\";float: left;margin-right: 0.25em;color: #696969;}#sk-container-id-3 label.sk-toggleable__label-arrow:hover:before {color: black;}#sk-container-id-3 div.sk-estimator:hover label.sk-toggleable__label-arrow:before {color: black;}#sk-container-id-3 div.sk-toggleable__content {max-height: 0;max-width: 0;overflow: hidden;text-align: left;background-color: #f0f8ff;}#sk-container-id-3 div.sk-toggleable__content pre {margin: 0.2em;color: black;border-radius: 0.25em;background-color: #f0f8ff;}#sk-container-id-3 input.sk-toggleable__control:checked~div.sk-toggleable__content {max-height: 200px;max-width: 100%;overflow: auto;}#sk-container-id-3 input.sk-toggleable__control:checked~label.sk-toggleable__label-arrow:before {content: \"▾\";}#sk-container-id-3 div.sk-estimator input.sk-toggleable__control:checked~label.sk-toggleable__label {background-color: #d4ebff;}#sk-container-id-3 div.sk-label input.sk-toggleable__control:checked~label.sk-toggleable__label {background-color: #d4ebff;}#sk-container-id-3 input.sk-hidden--visually {border: 0;clip: rect(1px 1px 1px 1px);clip: rect(1px, 1px, 1px, 1px);height: 1px;margin: -1px;overflow: hidden;padding: 0;position: absolute;width: 1px;}#sk-container-id-3 div.sk-estimator {font-family: monospace;background-color: #f0f8ff;border: 1px dotted black;border-radius: 0.25em;box-sizing: border-box;margin-bottom: 0.5em;}#sk-container-id-3 div.sk-estimator:hover {background-color: #d4ebff;}#sk-container-id-3 div.sk-parallel-item::after {content: \"\";width: 100%;border-bottom: 1px solid gray;flex-grow: 1;}#sk-container-id-3 div.sk-label:hover label.sk-toggleable__label {background-color: #d4ebff;}#sk-container-id-3 div.sk-serial::before {content: \"\";position: absolute;border-left: 1px solid gray;box-sizing: border-box;top: 0;bottom: 0;left: 50%;z-index: 0;}#sk-container-id-3 div.sk-serial {display: flex;flex-direction: column;align-items: center;background-color: white;padding-right: 0.2em;padding-left: 0.2em;position: relative;}#sk-container-id-3 div.sk-item {position: relative;z-index: 1;}#sk-container-id-3 div.sk-parallel {display: flex;align-items: stretch;justify-content: center;background-color: white;position: relative;}#sk-container-id-3 div.sk-item::before, #sk-container-id-3 div.sk-parallel-item::before {content: \"\";position: absolute;border-left: 1px solid gray;box-sizing: border-box;top: 0;bottom: 0;left: 50%;z-index: -1;}#sk-container-id-3 div.sk-parallel-item {display: flex;flex-direction: column;z-index: 1;position: relative;background-color: white;}#sk-container-id-3 div.sk-parallel-item:first-child::after {align-self: flex-end;width: 50%;}#sk-container-id-3 div.sk-parallel-item:last-child::after {align-self: flex-start;width: 50%;}#sk-container-id-3 div.sk-parallel-item:only-child::after {width: 0;}#sk-container-id-3 div.sk-dashed-wrapped {border: 1px dashed gray;margin: 0 0.4em 0.5em 0.4em;box-sizing: border-box;padding-bottom: 0.4em;background-color: white;}#sk-container-id-3 div.sk-label label {font-family: monospace;font-weight: bold;display: inline-block;line-height: 1.2em;}#sk-container-id-3 div.sk-label-container {text-align: center;}#sk-container-id-3 div.sk-container {/* jupyter's `normalize.less` sets `[hidden] { display: none; }` but bootstrap.min.css set `[hidden] { display: none !important; }` so we also need the `!important` here to be able to override the default hidden behavior on the sphinx rendered scikit-learn.org. See: https://github.com/scikit-learn/scikit-learn/issues/21755 */display: inline-block !important;position: relative;}#sk-container-id-3 div.sk-text-repr-fallback {display: none;}</style><div id=\"sk-container-id-3\" class=\"sk-top-container\"><div class=\"sk-text-repr-fallback\"><pre>LinearRegression()</pre><b>In a Jupyter environment, please rerun this cell to show the HTML representation or trust the notebook. <br />On GitHub, the HTML representation is unable to render, please try loading this page with nbviewer.org.</b></div><div class=\"sk-container\" hidden><div class=\"sk-item\"><div class=\"sk-estimator sk-toggleable\"><input class=\"sk-toggleable__control sk-hidden--visually\" id=\"sk-estimator-id-3\" type=\"checkbox\" checked><label for=\"sk-estimator-id-3\" class=\"sk-toggleable__label sk-toggleable__label-arrow\">LinearRegression</label><div class=\"sk-toggleable__content\"><pre>LinearRegression()</pre></div></div></div></div></div>"
     },
     "execution_count": 102,
     "metadata": {},
     "output_type": "execute_result"
    }
   ],
   "source": [
    "lr = LinearRegression()\n",
    "lr.fit(X_train, y_train)\n"
   ]
  },
  {
   "cell_type": "code",
   "execution_count": 103,
   "id": "131c36c1",
   "metadata": {
    "ExecuteTime": {
     "start_time": "2023-06-12T12:28:53.577315Z",
     "end_time": "2023-06-12T12:28:53.580244Z"
    }
   },
   "outputs": [],
   "source": [
    "y_pred = lr.predict(X_train)"
   ]
  },
  {
   "cell_type": "code",
   "execution_count": 104,
   "id": "b134c97b",
   "metadata": {
    "ExecuteTime": {
     "start_time": "2023-06-12T12:28:53.600220Z",
     "end_time": "2023-06-12T12:28:54.270529Z"
    }
   },
   "outputs": [
    {
     "data": {
      "text/plain": "<matplotlib.legend.Legend at 0x7fc603105510>"
     },
     "execution_count": 104,
     "metadata": {},
     "output_type": "execute_result"
    },
    {
     "data": {
      "text/plain": "<Figure size 640x480 with 1 Axes>",
      "image/png": "[encoded data removed]"
     },
     "metadata": {},
     "output_type": "display_data"
    }
   ],
   "source": [
    "#sns.distplot(y_pred, label='prediction')\n",
    "sns.histplot(y_pred, label=\"prediction\", kde=True, stat=\"density\", linewidth=0)\n",
    "\n",
    "#sns.distplot(y_train, label='actual')\n",
    "sns.histplot(y_train, label=\"actual\", kde=True, stat=\"density\", linewidth=0)\n",
    "\n",
    "\n",
    "plt.legend()"
   ]
  },
  {
   "cell_type": "code",
   "execution_count": 105,
   "id": "037aae1f",
   "metadata": {
    "ExecuteTime": {
     "start_time": "2023-06-12T12:28:54.271311Z",
     "end_time": "2023-06-12T12:28:54.274023Z"
    }
   },
   "outputs": [
    {
     "data": {
      "text/plain": "9.827368941909368"
     },
     "execution_count": 105,
     "metadata": {},
     "output_type": "execute_result"
    }
   ],
   "source": [
    "mean_squared_error(y_train, y_pred, squared=False)"
   ]
  },
  {
   "cell_type": "code",
   "execution_count": 106,
   "id": "f9e6479e",
   "metadata": {
    "ExecuteTime": {
     "start_time": "2023-06-12T12:28:54.276567Z",
     "end_time": "2023-06-12T12:28:54.277983Z"
    }
   },
   "outputs": [],
   "source": [
    "def read_dataframe(filename):\n",
    "    if filename.endswith('.csv'):\n",
    "        df = pd.read_csv(filename)\n",
    "\n",
    "        df.lpep_dropoff_datetime = pd.to_datetime(df.lpep_dropoff_datetime)\n",
    "        df.lpep_pickup_datetime = pd.to_datetime(df.lpep_pickup_datetime)\n",
    "    elif filename.endswith('.parquet'):\n",
    "        df = pd.read_parquet(filename)\n",
    "\n",
    "    df['duration'] = df.lpep_dropoff_datetime - df.lpep_pickup_datetime\n",
    "    df.duration = df.duration.apply(lambda td: td.total_seconds() / 60)\n",
    "\n",
    "    df = df[(df.duration >= 1) & (df.duration <= 60)]\n",
    "\n",
    "    categorical = ['PULocationID', 'DOLocationID']\n",
    "    df[categorical] = df[categorical].astype(str)\n",
    "    \n",
    "    return df"
   ]
  },
  {
   "cell_type": "code",
   "execution_count": 107,
   "id": "8029eba0",
   "metadata": {
    "ExecuteTime": {
     "start_time": "2023-06-12T12:28:54.279773Z",
     "end_time": "2023-06-12T12:28:54.718844Z"
    }
   },
   "outputs": [],
   "source": [
    "df_train = read_dataframe('./data/green_tripdata_2021-01.parquet')\n",
    "df_val = read_dataframe('./data/green_tripdata_2021-02.parquet')"
   ]
  },
  {
   "cell_type": "code",
   "execution_count": 108,
   "id": "f6f2f0eb",
   "metadata": {
    "ExecuteTime": {
     "start_time": "2023-06-12T12:28:54.719720Z",
     "end_time": "2023-06-12T12:28:54.721610Z"
    }
   },
   "outputs": [
    {
     "data": {
      "text/plain": "(73908, 61921)"
     },
     "execution_count": 108,
     "metadata": {},
     "output_type": "execute_result"
    }
   ],
   "source": [
    "len(df_train), len(df_val)"
   ]
  },
  {
   "cell_type": "code",
   "execution_count": 109,
   "id": "951d51ef",
   "metadata": {
    "ExecuteTime": {
     "start_time": "2023-06-12T12:28:54.723083Z",
     "end_time": "2023-06-12T12:28:54.737011Z"
    }
   },
   "outputs": [],
   "source": [
    "df_train['PU_DO'] = df_train['PULocationID'] + '_' + df_train['DOLocationID']\n",
    "df_val['PU_DO'] = df_val['PULocationID'] + '_' + df_val['DOLocationID']"
   ]
  },
  {
   "cell_type": "code",
   "execution_count": 110,
   "id": "c5cbfc25",
   "metadata": {
    "ExecuteTime": {
     "start_time": "2023-06-12T12:28:54.766734Z",
     "end_time": "2023-06-12T12:28:55.122960Z"
    }
   },
   "outputs": [],
   "source": [
    "categorical = ['PU_DO'] #'PULocationID', 'DOLocationID']\n",
    "numerical = ['trip_distance']\n",
    "\n",
    "dv = DictVectorizer()\n",
    "\n",
    "train_dicts = df_train[categorical + numerical].to_dict(orient='records')\n",
    "X_train = dv.fit_transform(train_dicts)\n",
    "\n",
    "val_dicts = df_val[categorical + numerical].to_dict(orient='records')\n",
    "X_val = dv.transform(val_dicts)"
   ]
  },
  {
   "cell_type": "code",
   "execution_count": 111,
   "id": "1e9fb68b",
   "metadata": {
    "ExecuteTime": {
     "start_time": "2023-06-12T12:28:55.122227Z",
     "end_time": "2023-06-12T12:28:55.124344Z"
    }
   },
   "outputs": [],
   "source": [
    "target = 'duration'\n",
    "y_train = df_train[target].values\n",
    "y_val = df_val[target].values"
   ]
  },
  {
   "cell_type": "code",
   "execution_count": 112,
   "id": "429e2394",
   "metadata": {
    "ExecuteTime": {
     "start_time": "2023-06-12T12:28:55.125618Z",
     "end_time": "2023-06-12T12:28:55.192525Z"
    }
   },
   "outputs": [
    {
     "data": {
      "text/plain": "7.758715210403367"
     },
     "execution_count": 112,
     "metadata": {},
     "output_type": "execute_result"
    }
   ],
   "source": [
    "lr = LinearRegression()\n",
    "lr.fit(X_train, y_train)\n",
    "\n",
    "y_pred = lr.predict(X_val)\n",
    "\n",
    "mean_squared_error(y_val, y_pred, squared=False)"
   ]
  },
  {
   "cell_type": "code",
   "execution_count": 113,
   "id": "22bf6f8b",
   "metadata": {
    "ExecuteTime": {
     "start_time": "2023-06-12T12:28:55.192910Z",
     "end_time": "2023-06-12T12:28:55.198090Z"
    }
   },
   "outputs": [],
   "source": [
    "with open('models/lin_reg.bin', 'wb') as f_out:\n",
    "    pickle.dump((dv, lr), f_out)"
   ]
  },
  {
   "cell_type": "code",
   "execution_count": 114,
   "id": "a4999b94",
   "metadata": {
    "ExecuteTime": {
     "start_time": "2023-06-12T12:10:50.085376Z",
     "end_time": "2023-06-12T12:10:55.629118Z"
    }
   },
   "outputs": [
    {
     "ename": "KeyboardInterrupt",
     "evalue": "",
     "output_type": "error",
     "traceback": [
      "\u001B[0;31m---------------------------------------------------------------------------\u001B[0m",
      "\u001B[0;31mKeyboardInterrupt\u001B[0m                         Traceback (most recent call last)",
      "Cell \u001B[0;32mIn[114], line 2\u001B[0m\n\u001B[1;32m      1\u001B[0m lr \u001B[38;5;241m=\u001B[39m Lasso(\u001B[38;5;241m0.01\u001B[39m)\n\u001B[0;32m----> 2\u001B[0m \u001B[43mlr\u001B[49m\u001B[38;5;241;43m.\u001B[39;49m\u001B[43mfit\u001B[49m\u001B[43m(\u001B[49m\u001B[43mX_train\u001B[49m\u001B[43m,\u001B[49m\u001B[43m \u001B[49m\u001B[43my_train\u001B[49m\u001B[43m)\u001B[49m\n\u001B[1;32m      4\u001B[0m y_pred \u001B[38;5;241m=\u001B[39m lr\u001B[38;5;241m.\u001B[39mpredict(X_val)\n\u001B[1;32m      6\u001B[0m mean_squared_error(y_val, y_pred, squared\u001B[38;5;241m=\u001B[39m\u001B[38;5;28;01mFalse\u001B[39;00m)\n",
      "File \u001B[0;32m~/anaconda3/lib/python3.10/site-packages/sklearn/linear_model/_coordinate_descent.py:1004\u001B[0m, in \u001B[0;36mElasticNet.fit\u001B[0;34m(self, X, y, sample_weight, check_input)\u001B[0m\n\u001B[1;32m   1002\u001B[0m \u001B[38;5;28;01melse\u001B[39;00m:\n\u001B[1;32m   1003\u001B[0m     this_Xy \u001B[38;5;241m=\u001B[39m \u001B[38;5;28;01mNone\u001B[39;00m\n\u001B[0;32m-> 1004\u001B[0m _, this_coef, this_dual_gap, this_iter \u001B[38;5;241m=\u001B[39m \u001B[38;5;28;43mself\u001B[39;49m\u001B[38;5;241;43m.\u001B[39;49m\u001B[43mpath\u001B[49m\u001B[43m(\u001B[49m\n\u001B[1;32m   1005\u001B[0m \u001B[43m    \u001B[49m\u001B[43mX\u001B[49m\u001B[43m,\u001B[49m\n\u001B[1;32m   1006\u001B[0m \u001B[43m    \u001B[49m\u001B[43my\u001B[49m\u001B[43m[\u001B[49m\u001B[43m:\u001B[49m\u001B[43m,\u001B[49m\u001B[43m \u001B[49m\u001B[43mk\u001B[49m\u001B[43m]\u001B[49m\u001B[43m,\u001B[49m\n\u001B[1;32m   1007\u001B[0m \u001B[43m    \u001B[49m\u001B[43ml1_ratio\u001B[49m\u001B[38;5;241;43m=\u001B[39;49m\u001B[38;5;28;43mself\u001B[39;49m\u001B[38;5;241;43m.\u001B[39;49m\u001B[43ml1_ratio\u001B[49m\u001B[43m,\u001B[49m\n\u001B[1;32m   1008\u001B[0m \u001B[43m    \u001B[49m\u001B[43meps\u001B[49m\u001B[38;5;241;43m=\u001B[39;49m\u001B[38;5;28;43;01mNone\u001B[39;49;00m\u001B[43m,\u001B[49m\n\u001B[1;32m   1009\u001B[0m \u001B[43m    \u001B[49m\u001B[43mn_alphas\u001B[49m\u001B[38;5;241;43m=\u001B[39;49m\u001B[38;5;28;43;01mNone\u001B[39;49;00m\u001B[43m,\u001B[49m\n\u001B[1;32m   1010\u001B[0m \u001B[43m    \u001B[49m\u001B[43malphas\u001B[49m\u001B[38;5;241;43m=\u001B[39;49m\u001B[43m[\u001B[49m\u001B[43malpha\u001B[49m\u001B[43m]\u001B[49m\u001B[43m,\u001B[49m\n\u001B[1;32m   1011\u001B[0m \u001B[43m    \u001B[49m\u001B[43mprecompute\u001B[49m\u001B[38;5;241;43m=\u001B[39;49m\u001B[43mprecompute\u001B[49m\u001B[43m,\u001B[49m\n\u001B[1;32m   1012\u001B[0m \u001B[43m    \u001B[49m\u001B[43mXy\u001B[49m\u001B[38;5;241;43m=\u001B[39;49m\u001B[43mthis_Xy\u001B[49m\u001B[43m,\u001B[49m\n\u001B[1;32m   1013\u001B[0m \u001B[43m    \u001B[49m\u001B[43mcopy_X\u001B[49m\u001B[38;5;241;43m=\u001B[39;49m\u001B[38;5;28;43;01mTrue\u001B[39;49;00m\u001B[43m,\u001B[49m\n\u001B[1;32m   1014\u001B[0m \u001B[43m    \u001B[49m\u001B[43mcoef_init\u001B[49m\u001B[38;5;241;43m=\u001B[39;49m\u001B[43mcoef_\u001B[49m\u001B[43m[\u001B[49m\u001B[43mk\u001B[49m\u001B[43m]\u001B[49m\u001B[43m,\u001B[49m\n\u001B[1;32m   1015\u001B[0m \u001B[43m    \u001B[49m\u001B[43mverbose\u001B[49m\u001B[38;5;241;43m=\u001B[39;49m\u001B[38;5;28;43;01mFalse\u001B[39;49;00m\u001B[43m,\u001B[49m\n\u001B[1;32m   1016\u001B[0m \u001B[43m    \u001B[49m\u001B[43mreturn_n_iter\u001B[49m\u001B[38;5;241;43m=\u001B[39;49m\u001B[38;5;28;43;01mTrue\u001B[39;49;00m\u001B[43m,\u001B[49m\n\u001B[1;32m   1017\u001B[0m \u001B[43m    \u001B[49m\u001B[43mpositive\u001B[49m\u001B[38;5;241;43m=\u001B[39;49m\u001B[38;5;28;43mself\u001B[39;49m\u001B[38;5;241;43m.\u001B[39;49m\u001B[43mpositive\u001B[49m\u001B[43m,\u001B[49m\n\u001B[1;32m   1018\u001B[0m \u001B[43m    \u001B[49m\u001B[43mcheck_input\u001B[49m\u001B[38;5;241;43m=\u001B[39;49m\u001B[38;5;28;43;01mFalse\u001B[39;49;00m\u001B[43m,\u001B[49m\n\u001B[1;32m   1019\u001B[0m \u001B[43m    \u001B[49m\u001B[38;5;66;43;03m# from here on **params\u001B[39;49;00m\n\u001B[1;32m   1020\u001B[0m \u001B[43m    \u001B[49m\u001B[43mtol\u001B[49m\u001B[38;5;241;43m=\u001B[39;49m\u001B[38;5;28;43mself\u001B[39;49m\u001B[38;5;241;43m.\u001B[39;49m\u001B[43mtol\u001B[49m\u001B[43m,\u001B[49m\n\u001B[1;32m   1021\u001B[0m \u001B[43m    \u001B[49m\u001B[43mX_offset\u001B[49m\u001B[38;5;241;43m=\u001B[39;49m\u001B[43mX_offset\u001B[49m\u001B[43m,\u001B[49m\n\u001B[1;32m   1022\u001B[0m \u001B[43m    \u001B[49m\u001B[43mX_scale\u001B[49m\u001B[38;5;241;43m=\u001B[39;49m\u001B[43mX_scale\u001B[49m\u001B[43m,\u001B[49m\n\u001B[1;32m   1023\u001B[0m \u001B[43m    \u001B[49m\u001B[43mmax_iter\u001B[49m\u001B[38;5;241;43m=\u001B[39;49m\u001B[38;5;28;43mself\u001B[39;49m\u001B[38;5;241;43m.\u001B[39;49m\u001B[43mmax_iter\u001B[49m\u001B[43m,\u001B[49m\n\u001B[1;32m   1024\u001B[0m \u001B[43m    \u001B[49m\u001B[43mrandom_state\u001B[49m\u001B[38;5;241;43m=\u001B[39;49m\u001B[38;5;28;43mself\u001B[39;49m\u001B[38;5;241;43m.\u001B[39;49m\u001B[43mrandom_state\u001B[49m\u001B[43m,\u001B[49m\n\u001B[1;32m   1025\u001B[0m \u001B[43m    \u001B[49m\u001B[43mselection\u001B[49m\u001B[38;5;241;43m=\u001B[39;49m\u001B[38;5;28;43mself\u001B[39;49m\u001B[38;5;241;43m.\u001B[39;49m\u001B[43mselection\u001B[49m\u001B[43m,\u001B[49m\n\u001B[1;32m   1026\u001B[0m \u001B[43m    \u001B[49m\u001B[43msample_weight\u001B[49m\u001B[38;5;241;43m=\u001B[39;49m\u001B[43msample_weight\u001B[49m\u001B[43m,\u001B[49m\n\u001B[1;32m   1027\u001B[0m \u001B[43m\u001B[49m\u001B[43m)\u001B[49m\n\u001B[1;32m   1028\u001B[0m coef_[k] \u001B[38;5;241m=\u001B[39m this_coef[:, \u001B[38;5;241m0\u001B[39m]\n\u001B[1;32m   1029\u001B[0m dual_gaps_[k] \u001B[38;5;241m=\u001B[39m this_dual_gap[\u001B[38;5;241m0\u001B[39m]\n",
      "File \u001B[0;32m~/anaconda3/lib/python3.10/site-packages/sklearn/linear_model/_coordinate_descent.py:592\u001B[0m, in \u001B[0;36menet_path\u001B[0;34m(X, y, l1_ratio, eps, n_alphas, alphas, precompute, Xy, copy_X, coef_init, verbose, return_n_iter, positive, check_input, **params)\u001B[0m\n\u001B[1;32m    590\u001B[0m l2_reg \u001B[38;5;241m=\u001B[39m alpha \u001B[38;5;241m*\u001B[39m (\u001B[38;5;241m1.0\u001B[39m \u001B[38;5;241m-\u001B[39m l1_ratio) \u001B[38;5;241m*\u001B[39m n_samples\n\u001B[1;32m    591\u001B[0m \u001B[38;5;28;01mif\u001B[39;00m \u001B[38;5;129;01mnot\u001B[39;00m multi_output \u001B[38;5;129;01mand\u001B[39;00m sparse\u001B[38;5;241m.\u001B[39misspmatrix(X):\n\u001B[0;32m--> 592\u001B[0m     model \u001B[38;5;241m=\u001B[39m \u001B[43mcd_fast\u001B[49m\u001B[38;5;241;43m.\u001B[39;49m\u001B[43msparse_enet_coordinate_descent\u001B[49m\u001B[43m(\u001B[49m\n\u001B[1;32m    593\u001B[0m \u001B[43m        \u001B[49m\u001B[43mw\u001B[49m\u001B[38;5;241;43m=\u001B[39;49m\u001B[43mcoef_\u001B[49m\u001B[43m,\u001B[49m\n\u001B[1;32m    594\u001B[0m \u001B[43m        \u001B[49m\u001B[43malpha\u001B[49m\u001B[38;5;241;43m=\u001B[39;49m\u001B[43ml1_reg\u001B[49m\u001B[43m,\u001B[49m\n\u001B[1;32m    595\u001B[0m \u001B[43m        \u001B[49m\u001B[43mbeta\u001B[49m\u001B[38;5;241;43m=\u001B[39;49m\u001B[43ml2_reg\u001B[49m\u001B[43m,\u001B[49m\n\u001B[1;32m    596\u001B[0m \u001B[43m        \u001B[49m\u001B[43mX_data\u001B[49m\u001B[38;5;241;43m=\u001B[39;49m\u001B[43mX\u001B[49m\u001B[38;5;241;43m.\u001B[39;49m\u001B[43mdata\u001B[49m\u001B[43m,\u001B[49m\n\u001B[1;32m    597\u001B[0m \u001B[43m        \u001B[49m\u001B[43mX_indices\u001B[49m\u001B[38;5;241;43m=\u001B[39;49m\u001B[43mX\u001B[49m\u001B[38;5;241;43m.\u001B[39;49m\u001B[43mindices\u001B[49m\u001B[43m,\u001B[49m\n\u001B[1;32m    598\u001B[0m \u001B[43m        \u001B[49m\u001B[43mX_indptr\u001B[49m\u001B[38;5;241;43m=\u001B[39;49m\u001B[43mX\u001B[49m\u001B[38;5;241;43m.\u001B[39;49m\u001B[43mindptr\u001B[49m\u001B[43m,\u001B[49m\n\u001B[1;32m    599\u001B[0m \u001B[43m        \u001B[49m\u001B[43my\u001B[49m\u001B[38;5;241;43m=\u001B[39;49m\u001B[43my\u001B[49m\u001B[43m,\u001B[49m\n\u001B[1;32m    600\u001B[0m \u001B[43m        \u001B[49m\u001B[43msample_weight\u001B[49m\u001B[38;5;241;43m=\u001B[39;49m\u001B[43msample_weight\u001B[49m\u001B[43m,\u001B[49m\n\u001B[1;32m    601\u001B[0m \u001B[43m        \u001B[49m\u001B[43mX_mean\u001B[49m\u001B[38;5;241;43m=\u001B[39;49m\u001B[43mX_sparse_scaling\u001B[49m\u001B[43m,\u001B[49m\n\u001B[1;32m    602\u001B[0m \u001B[43m        \u001B[49m\u001B[43mmax_iter\u001B[49m\u001B[38;5;241;43m=\u001B[39;49m\u001B[43mmax_iter\u001B[49m\u001B[43m,\u001B[49m\n\u001B[1;32m    603\u001B[0m \u001B[43m        \u001B[49m\u001B[43mtol\u001B[49m\u001B[38;5;241;43m=\u001B[39;49m\u001B[43mtol\u001B[49m\u001B[43m,\u001B[49m\n\u001B[1;32m    604\u001B[0m \u001B[43m        \u001B[49m\u001B[43mrng\u001B[49m\u001B[38;5;241;43m=\u001B[39;49m\u001B[43mrng\u001B[49m\u001B[43m,\u001B[49m\n\u001B[1;32m    605\u001B[0m \u001B[43m        \u001B[49m\u001B[43mrandom\u001B[49m\u001B[38;5;241;43m=\u001B[39;49m\u001B[43mrandom\u001B[49m\u001B[43m,\u001B[49m\n\u001B[1;32m    606\u001B[0m \u001B[43m        \u001B[49m\u001B[43mpositive\u001B[49m\u001B[38;5;241;43m=\u001B[39;49m\u001B[43mpositive\u001B[49m\u001B[43m,\u001B[49m\n\u001B[1;32m    607\u001B[0m \u001B[43m    \u001B[49m\u001B[43m)\u001B[49m\n\u001B[1;32m    608\u001B[0m \u001B[38;5;28;01melif\u001B[39;00m multi_output:\n\u001B[1;32m    609\u001B[0m     model \u001B[38;5;241m=\u001B[39m cd_fast\u001B[38;5;241m.\u001B[39menet_coordinate_descent_multi_task(\n\u001B[1;32m    610\u001B[0m         coef_, l1_reg, l2_reg, X, y, max_iter, tol, rng, random\n\u001B[1;32m    611\u001B[0m     )\n",
      "\u001B[0;31mKeyboardInterrupt\u001B[0m: "
     ]
    }
   ],
   "source": [
    "lr = Lasso(0.01)\n",
    "lr.fit(X_train, y_train)\n",
    "\n",
    "y_pred = lr.predict(X_val)\n",
    "\n",
    "mean_squared_error(y_val, y_pred, squared=False)"
   ]
  },
  {
   "cell_type": "code",
   "execution_count": null,
   "id": "47b0eb9b",
   "metadata": {
    "ExecuteTime": {
     "start_time": "2023-06-12T12:10:55.629328Z",
     "end_time": "2023-06-12T12:10:55.631998Z"
    }
   },
   "outputs": [],
   "source": []
  }
 ],
 "metadata": {
  "kernelspec": {
   "display_name": "Python 3 (ipykernel)",
   "language": "python",
   "name": "python3"
  },
  "language_info": {
   "codemirror_mode": {
    "name": "ipython",
    "version": 3
   },
   "file_extension": ".py",
   "mimetype": "text/x-python",
   "name": "python",
   "nbconvert_exporter": "python",
   "pygments_lexer": "ipython3",
   "version": "3.10.9"
  }
 },
 "nbformat": 4,
 "nbformat_minor": 5
}
